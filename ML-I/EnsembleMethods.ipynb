{
 "cells": [
  {
   "cell_type": "markdown",
   "metadata": {
    "collapsed": true,
    "pycharm": {
     "name": "#%% md\n"
    }
   },
   "source": [
    "# Métodos de ensamblado\n"
   ]
  },
  {
   "cell_type": "markdown",
   "source": [
    "![title](img/intro.png)\n",
    "\n",
    "Introducción del artículo *González, S., García, S., Del Ser, J., Rokach, L., & Herrera, F. (2020). A practical tutorial on bagging and boosting based ensembles for machine learning: Algorithms, software tools, performance study, practical perspectives and opportunities. Information Fusion, 64, 205-237.*"
   ],
   "metadata": {
    "collapsed": false,
    "pycharm": {
     "name": "#%% md\n"
    }
   }
  },
  {
   "cell_type": "markdown",
   "source": [],
   "metadata": {
    "collapsed": false,
    "pycharm": {
     "name": "#%% md\n"
    }
   }
  },
  {
   "cell_type": "markdown",
   "source": [
    "IMAGEN PEZ"
   ],
   "metadata": {
    "collapsed": false,
    "pycharm": {
     "name": "#%% md\n"
    }
   }
  },
  {
   "cell_type": "markdown",
   "source": [
    "Los métodos de ensamblado entrenan múltiples clasificadores (weak learners) para el mismo problema y combinan los resultados (formando un strong learner). El esquema básico sería:"
   ],
   "metadata": {
    "collapsed": false,
    "pycharm": {
     "name": "#%% md\n"
    }
   }
  },
  {
   "cell_type": "markdown",
   "source": [
    "![architecture](img/ensemble_architecture.png)\n",
    "\n",
    "Extraída del libro *Zhou, Z. H. (2012). Ensemble methods: foundations and algorithms. CRC press.*"
   ],
   "metadata": {
    "collapsed": false,
    "pycharm": {
     "name": "#%% md\n"
    }
   }
  },
  {
   "cell_type": "markdown",
   "source": [
    "Un ensamblado está formado por distintos clasificadores como puede ser un árbol de decisión, una regresión logística u otros tipos de modelos (tanto para el caso de clasificación como el de regresión).\n",
    "\n",
    "Un ensamblado se construye en dos pasos:\n",
    " - generando los modelos base (*weak learners*)\n",
    " - y combinándolos después.\n",
    "\n",
    "¿Coste computacional?\n",
    "Para seleccionar un único modelo hay que probar varios y elegir bien los parámetros. Esto sería parecido a entrenar distintos modelos base. La combinación final es simple y, por tanto, tiene bajo coste computacional.\n",
    "\n",
    "¿Cómo combinar los resultados de los modelos?\n",
    "Media, media ponderada, voto de la mayoría, etc."
   ],
   "metadata": {
    "collapsed": false,
    "pycharm": {
     "name": "#%% md\n"
    }
   }
  },
  {
   "cell_type": "markdown",
   "source": [
    "## Tipos de ensamblado"
   ],
   "metadata": {
    "collapsed": false,
    "pycharm": {
     "name": "#%% md\n"
    }
   }
  },
  {
   "cell_type": "markdown",
   "source": [
    "Existen distintas taxonomías de ensamblado de modelos pero los tres tipos más conocidos y usados son:\n",
    "- Bagging\n",
    "- Boosting\n",
    "- Stacking"
   ],
   "metadata": {
    "collapsed": false,
    "pycharm": {
     "name": "#%% md\n"
    }
   }
  },
  {
   "cell_type": "markdown",
   "source": [
    "### Stacking"
   ],
   "metadata": {
    "collapsed": false,
    "pycharm": {
     "name": "#%% md\n"
    }
   }
  },
  {
   "cell_type": "markdown",
   "source": [
    "Consiste en combinar distintos modelos a través de otro modelo (un meta-modelo). Este útimo modelo usa como variables los outputs de los modelos iniciales para obtener una predicción final.\n"
   ],
   "metadata": {
    "collapsed": false,
    "pycharm": {
     "name": "#%% md\n"
    }
   }
  },
  {
   "cell_type": "markdown",
   "source": [
    "![stacking_scheme](img/stacking.png)\n",
    "\n",
    "Imagen obtenida de [Jason Brownlee - machinelearningmastery](https://machinelearningmastery.com/tour-of-ensemble-learning-algorithms/)."
   ],
   "metadata": {
    "collapsed": false,
    "pycharm": {
     "name": "#%% md\n"
    }
   }
  },
  {
   "cell_type": "markdown",
   "source": [
    "En Python: [StackingClassifier](https://scikit-learn.org/stable/modules/generated/sklearn.ensemble.StackingClassifier.html) y [StackingRegressor](https://scikit-learn.org/stable/modules/generated/sklearn.ensemble.StackingRegressor.html)."
   ],
   "metadata": {
    "collapsed": false,
    "pycharm": {
     "name": "#%% md\n"
    }
   }
  },
  {
   "cell_type": "code",
   "execution_count": null,
   "outputs": [],
   "source": [],
   "metadata": {
    "collapsed": false,
    "pycharm": {
     "name": "#%%\n"
    }
   }
  },
  {
   "cell_type": "code",
   "execution_count": null,
   "outputs": [],
   "source": [],
   "metadata": {
    "collapsed": false,
    "pycharm": {
     "name": "#%%\n"
    }
   }
  },
  {
   "cell_type": "markdown",
   "source": [
    "### Bagging (Bootstrao Aggregation)"
   ],
   "metadata": {
    "collapsed": false,
    "pycharm": {
     "name": "#%% md\n"
    }
   }
  },
  {
   "cell_type": "markdown",
   "source": [
    "Es un método de ensamblado que entrena en paralelo el mismo tipo de modelo. Una de las motivaciones principales de los modelos de ensamblado en paralelo es aprovechar la independencia de los clasificadores para mejorar el error. Sin embargo, al basarse todos los modelos en los mismos datos, se pierde algo de esa independencia. Por ello, se introduce aleatoriedad en los datos mediante el muestreo con *bootstrap*."
   ],
   "metadata": {
    "collapsed": false,
    "pycharm": {
     "name": "#%% md\n"
    }
   }
  },
  {
   "cell_type": "markdown",
   "source": [
    "Bootstrap consiste en obtener muestras con reemplazamiento del mismo tamaño que la muestra original."
   ],
   "metadata": {
    "collapsed": false,
    "pycharm": {
     "name": "#%% md\n"
    }
   }
  },
  {
   "cell_type": "markdown",
   "source": [
    "Bagging consiste en entrenar el mismo modelo en distintas muestras bootstrap del mismo conjunto de datos y luego promediar las predicciones de todos ellos puesto que se reduce la varianza."
   ],
   "metadata": {
    "collapsed": false,
    "pycharm": {
     "name": "#%% md\n"
    }
   }
  },
  {
   "cell_type": "markdown",
   "source": [
    "La predicción final se puede obtener como un promedio, por votación, etc."
   ],
   "metadata": {
    "collapsed": false,
    "pycharm": {
     "name": "#%% md\n"
    }
   }
  },
  {
   "cell_type": "markdown",
   "source": [
    "*Out-of-bag error*. Como no todas las muestras se usan para entrenar el modelo, se puede estimar el error con dichas muestras."
   ],
   "metadata": {
    "collapsed": false,
    "pycharm": {
     "name": "#%% md\n"
    }
   }
  },
  {
   "cell_type": "markdown",
   "source": [
    "![bagging_inffus](img/bagging_inffus.png)\n",
    "\n",
    "*González, S., García, S., Del Ser, J., Rokach, L., & Herrera, F. (2020). A practical tutorial on bagging and boosting based ensembles for machine learning: Algorithms, software tools, performance study, practical perspectives and opportunities. Information Fusion, 64, 205-237.*"
   ],
   "metadata": {
    "collapsed": false,
    "pycharm": {
     "name": "#%% md\n"
    }
   }
  },
  {
   "cell_type": "markdown",
   "source": [
    "### Boosting"
   ],
   "metadata": {
    "collapsed": false,
    "pycharm": {
     "name": "#%% md\n"
    }
   }
  },
  {
   "cell_type": "markdown",
   "source": [
    "Es un método de ensamblado que entrena de forma secuencial el mismo tipo de modelo. Cada modelo tiene en cuenta los errores de los modelos previos a través de pesos que le dan más importancia a aquellas observaciones que se han sido clasificadas de forma incorrecta anteriormente."
   ],
   "metadata": {
    "collapsed": false,
    "pycharm": {
     "name": "#%% md\n"
    }
   }
  },
  {
   "cell_type": "markdown",
   "source": [
    "Procedimiento general del método Boosting:"
   ],
   "metadata": {
    "collapsed": false,
    "pycharm": {
     "name": "#%% md\n"
    }
   }
  },
  {
   "cell_type": "markdown",
   "source": [
    "![boosting_procedure](img/boosting_procedure.png)\n",
    "\n",
    "*Zhou, Z. H. (2012). Ensemble methods: foundations and algorithms. CRC press.*"
   ],
   "metadata": {
    "collapsed": false,
    "pycharm": {
     "name": "#%% md\n"
    }
   }
  },
  {
   "cell_type": "markdown",
   "source": [
    "![boosting_inffus](img/boosting_inffus.png)\n",
    "\n",
    "*González, S., García, S., Del Ser, J., Rokach, L., & Herrera, F. (2020). A practical tutorial on bagging and boosting based ensembles for machine learning: Algorithms, software tools, performance study, practical perspectives and opportunities. Information Fusion, 64, 205-237.*"
   ],
   "metadata": {
    "collapsed": false,
    "pycharm": {
     "name": "#%% md\n"
    }
   }
  },
  {
   "cell_type": "markdown",
   "source": [
    "El algoritmo anterior muestra el procedimiento general de Boosting, para cada algoritmo en concreto hay que definir *Adjust Distribution* y *Combine Outputs*. Dos de los principales algoritmos son:\n",
    "- AdaBoost.\n",
    "- Gradient Boosting."
   ],
   "metadata": {
    "collapsed": false,
    "pycharm": {
     "name": "#%% md\n"
    }
   }
  },
  {
   "cell_type": "markdown",
   "source": [
    "Ejemplos sencillos de AdaBoost:"
   ],
   "metadata": {
    "collapsed": false,
    "pycharm": {
     "name": "#%% md\n"
    }
   }
  },
  {
   "cell_type": "markdown",
   "source": [
    "![xor_ada](img/adaboost_xor.png)\n",
    "\n",
    "*Zhou, Z. H. (2012). Ensemble methods: foundations and algorithms. CRC press.*"
   ],
   "metadata": {
    "collapsed": false,
    "pycharm": {
     "name": "#%% md\n"
    }
   }
  },
  {
   "cell_type": "markdown",
   "source": [
    "![gaussian_ada](img/gaussian_adaboost.png)\n",
    "\n",
    "*Zhou, Z. H. (2012). Ensemble methods: foundations and algorithms. CRC press.*"
   ],
   "metadata": {
    "collapsed": false,
    "pycharm": {
     "name": "#%% md\n"
    }
   }
  },
  {
   "cell_type": "markdown",
   "source": [
    "## Ejemplo de Boosting en Python"
   ],
   "metadata": {
    "collapsed": false,
    "pycharm": {
     "name": "#%% md\n"
    }
   }
  },
  {
   "cell_type": "markdown",
   "source": [
    "- Gradient Boosting Machine (GBM)\n",
    "- Extreme Gradient Boosting\n",
    "- CatBoost. Acepta variables categóricas. [Tutorial en Python](https://github.com/catboost/tutorials/blob/master/python_tutorial.ipynb)\n",
    "- HistGradientBoostingClassifier. Más eficiente. También acepta variables categóricas.\n"
   ],
   "metadata": {
    "collapsed": false,
    "pycharm": {
     "name": "#%% md\n"
    }
   }
  },
  {
   "cell_type": "code",
   "execution_count": 29,
   "outputs": [],
   "source": [
    "import pandas as pd\n",
    "import numpy as np\n",
    "from sklearn.datasets import load_wine\n",
    "from sklearn.model_selection import train_test_split"
   ],
   "metadata": {
    "collapsed": false,
    "pycharm": {
     "name": "#%%\n"
    }
   }
  },
  {
   "cell_type": "code",
   "execution_count": 40,
   "outputs": [
    {
     "data": {
      "text/plain": "   Preg   Plas   Pres   Skin   Insu   Mass   Pedi   Age  class\n0    14    175     62     30      0   33.6  0.212    38      1\n1     4    146     78      0      0   38.5  0.520    67      1\n2    15    136     70     32    110   37.1  0.153    43      1\n3     3    107     62     13     48   22.9  0.678    23      1\n4     3    169     74     19    125   29.9  0.268    31      1",
      "text/html": "<div>\n<style scoped>\n    .dataframe tbody tr th:only-of-type {\n        vertical-align: middle;\n    }\n\n    .dataframe tbody tr th {\n        vertical-align: top;\n    }\n\n    .dataframe thead th {\n        text-align: right;\n    }\n</style>\n<table border=\"1\" class=\"dataframe\">\n  <thead>\n    <tr style=\"text-align: right;\">\n      <th></th>\n      <th>Preg</th>\n      <th>Plas</th>\n      <th>Pres</th>\n      <th>Skin</th>\n      <th>Insu</th>\n      <th>Mass</th>\n      <th>Pedi</th>\n      <th>Age</th>\n      <th>class</th>\n    </tr>\n  </thead>\n  <tbody>\n    <tr>\n      <th>0</th>\n      <td>14</td>\n      <td>175</td>\n      <td>62</td>\n      <td>30</td>\n      <td>0</td>\n      <td>33.6</td>\n      <td>0.212</td>\n      <td>38</td>\n      <td>1</td>\n    </tr>\n    <tr>\n      <th>1</th>\n      <td>4</td>\n      <td>146</td>\n      <td>78</td>\n      <td>0</td>\n      <td>0</td>\n      <td>38.5</td>\n      <td>0.520</td>\n      <td>67</td>\n      <td>1</td>\n    </tr>\n    <tr>\n      <th>2</th>\n      <td>15</td>\n      <td>136</td>\n      <td>70</td>\n      <td>32</td>\n      <td>110</td>\n      <td>37.1</td>\n      <td>0.153</td>\n      <td>43</td>\n      <td>1</td>\n    </tr>\n    <tr>\n      <th>3</th>\n      <td>3</td>\n      <td>107</td>\n      <td>62</td>\n      <td>13</td>\n      <td>48</td>\n      <td>22.9</td>\n      <td>0.678</td>\n      <td>23</td>\n      <td>1</td>\n    </tr>\n    <tr>\n      <th>4</th>\n      <td>3</td>\n      <td>169</td>\n      <td>74</td>\n      <td>19</td>\n      <td>125</td>\n      <td>29.9</td>\n      <td>0.268</td>\n      <td>31</td>\n      <td>1</td>\n    </tr>\n  </tbody>\n</table>\n</div>"
     },
     "execution_count": 40,
     "metadata": {},
     "output_type": "execute_result"
    }
   ],
   "source": [
    "pima = pd.read_csv('pima.csv')\n",
    "pima.head()"
   ],
   "metadata": {
    "collapsed": false,
    "pycharm": {
     "name": "#%%\n"
    }
   }
  },
  {
   "cell_type": "code",
   "execution_count": 31,
   "outputs": [],
   "source": [
    "y = pima['class'].to_numpy()\n",
    "X = pima.iloc[:,0:-1].to_numpy() # de 0 hasta la penúltima porque es la y"
   ],
   "metadata": {
    "collapsed": false,
    "pycharm": {
     "name": "#%%\n"
    }
   }
  },
  {
   "cell_type": "code",
   "execution_count": 32,
   "outputs": [],
   "source": [
    "X_train, X_test, y_train, y_test = train_test_split(X,y,test_size = 0.3,random_state = 42, stratify = y)"
   ],
   "metadata": {
    "collapsed": false,
    "pycharm": {
     "name": "#%%\n"
    }
   }
  },
  {
   "cell_type": "code",
   "execution_count": 33,
   "outputs": [
    {
     "data": {
      "text/plain": "0.7402597402597403"
     },
     "execution_count": 33,
     "metadata": {},
     "output_type": "execute_result"
    }
   ],
   "source": [
    "from sklearn.ensemble import AdaBoostClassifier\n",
    "from sklearn import metrics\n",
    "model = AdaBoostClassifier(random_state=1)\n",
    "model.fit(X_train, y_train)\n",
    "y_pred = model.predict(X_test)\n",
    "metrics.accuracy_score(y_pred,y_test)"
   ],
   "metadata": {
    "collapsed": false,
    "pycharm": {
     "name": "#%%\n"
    }
   }
  },
  {
   "cell_type": "code",
   "execution_count": 34,
   "outputs": [
    {
     "data": {
      "text/plain": "0.7575757575757576"
     },
     "execution_count": 34,
     "metadata": {},
     "output_type": "execute_result"
    }
   ],
   "source": [
    "from sklearn.ensemble import GradientBoostingClassifier\n",
    "model= GradientBoostingClassifier(random_state=0)\n",
    "model.fit(X_train, y_train)\n",
    "y_pred = model.predict(X_test)\n",
    "metrics.accuracy_score(y_pred,y_test)"
   ],
   "metadata": {
    "collapsed": false,
    "pycharm": {
     "name": "#%%\n"
    }
   }
  },
  {
   "cell_type": "code",
   "execution_count": 36,
   "outputs": [
    {
     "data": {
      "text/plain": "0.7792207792207793"
     },
     "execution_count": 36,
     "metadata": {},
     "output_type": "execute_result"
    }
   ],
   "source": [
    "import xgboost as xgb\n",
    "model=xgb.XGBClassifier(random_state=1,learning_rate=0.01, use_label_encoder = False)\n",
    "model.fit(X_train, y_train)\n",
    "y_pred = model.predict(X_test)\n",
    "metrics.accuracy_score(y_pred,y_test)"
   ],
   "metadata": {
    "collapsed": false,
    "pycharm": {
     "name": "#%%\n"
    }
   }
  },
  {
   "cell_type": "markdown",
   "source": [],
   "metadata": {
    "collapsed": false,
    "pycharm": {
     "name": "#%% md\n"
    }
   }
  },
  {
   "cell_type": "code",
   "execution_count": null,
   "outputs": [],
   "source": [],
   "metadata": {
    "collapsed": false,
    "pycharm": {
     "name": "#%%\n"
    }
   }
  },
  {
   "cell_type": "code",
   "execution_count": 46,
   "outputs": [],
   "source": [
    "# categorizamos edad\n",
    "bins = [0, 30, 40, 50, 60, 70, 150]\n",
    "group_names = [1,2,3,4,5,6]\n",
    "pima['age_cat'] = pd.cut(pima[' Age'], bins, labels=group_names)"
   ],
   "metadata": {
    "collapsed": false,
    "pycharm": {
     "name": "#%%\n"
    }
   }
  },
  {
   "cell_type": "code",
   "execution_count": 138,
   "outputs": [],
   "source": [
    "pima2 = pima.drop(columns=\" Age\")"
   ],
   "metadata": {
    "collapsed": false,
    "pycharm": {
     "name": "#%%\n"
    }
   }
  },
  {
   "cell_type": "code",
   "execution_count": 139,
   "outputs": [],
   "source": [
    "y = pima2['class']\n",
    "X = pima2.drop(columns=\"class\")"
   ],
   "metadata": {
    "collapsed": false,
    "pycharm": {
     "name": "#%%\n"
    }
   }
  },
  {
   "cell_type": "code",
   "execution_count": 140,
   "outputs": [
    {
     "data": {
      "text/plain": "     Preg   Plas   Pres   Skin   Insu   Mass   Pedi age_cat\n0      14    175     62     30      0   33.6  0.212       2\n1       4    146     78      0      0   38.5  0.520       5\n2      15    136     70     32    110   37.1  0.153       3\n3       3    107     62     13     48   22.9  0.678       1\n4       3    169     74     19    125   29.9  0.268       2\n..    ...    ...    ...    ...    ...    ...    ...     ...\n763     5    117     92      0      0   34.1  0.337       2\n764     4     83     86     19      0   29.3  0.317       2\n765     7    119      0      0      0   25.2  0.209       2\n766     1     95     66     13     38   19.6  0.334       1\n767     1    181     64     30    180   34.1  0.328       2\n\n[768 rows x 8 columns]",
      "text/html": "<div>\n<style scoped>\n    .dataframe tbody tr th:only-of-type {\n        vertical-align: middle;\n    }\n\n    .dataframe tbody tr th {\n        vertical-align: top;\n    }\n\n    .dataframe thead th {\n        text-align: right;\n    }\n</style>\n<table border=\"1\" class=\"dataframe\">\n  <thead>\n    <tr style=\"text-align: right;\">\n      <th></th>\n      <th>Preg</th>\n      <th>Plas</th>\n      <th>Pres</th>\n      <th>Skin</th>\n      <th>Insu</th>\n      <th>Mass</th>\n      <th>Pedi</th>\n      <th>age_cat</th>\n    </tr>\n  </thead>\n  <tbody>\n    <tr>\n      <th>0</th>\n      <td>14</td>\n      <td>175</td>\n      <td>62</td>\n      <td>30</td>\n      <td>0</td>\n      <td>33.6</td>\n      <td>0.212</td>\n      <td>2</td>\n    </tr>\n    <tr>\n      <th>1</th>\n      <td>4</td>\n      <td>146</td>\n      <td>78</td>\n      <td>0</td>\n      <td>0</td>\n      <td>38.5</td>\n      <td>0.520</td>\n      <td>5</td>\n    </tr>\n    <tr>\n      <th>2</th>\n      <td>15</td>\n      <td>136</td>\n      <td>70</td>\n      <td>32</td>\n      <td>110</td>\n      <td>37.1</td>\n      <td>0.153</td>\n      <td>3</td>\n    </tr>\n    <tr>\n      <th>3</th>\n      <td>3</td>\n      <td>107</td>\n      <td>62</td>\n      <td>13</td>\n      <td>48</td>\n      <td>22.9</td>\n      <td>0.678</td>\n      <td>1</td>\n    </tr>\n    <tr>\n      <th>4</th>\n      <td>3</td>\n      <td>169</td>\n      <td>74</td>\n      <td>19</td>\n      <td>125</td>\n      <td>29.9</td>\n      <td>0.268</td>\n      <td>2</td>\n    </tr>\n    <tr>\n      <th>...</th>\n      <td>...</td>\n      <td>...</td>\n      <td>...</td>\n      <td>...</td>\n      <td>...</td>\n      <td>...</td>\n      <td>...</td>\n      <td>...</td>\n    </tr>\n    <tr>\n      <th>763</th>\n      <td>5</td>\n      <td>117</td>\n      <td>92</td>\n      <td>0</td>\n      <td>0</td>\n      <td>34.1</td>\n      <td>0.337</td>\n      <td>2</td>\n    </tr>\n    <tr>\n      <th>764</th>\n      <td>4</td>\n      <td>83</td>\n      <td>86</td>\n      <td>19</td>\n      <td>0</td>\n      <td>29.3</td>\n      <td>0.317</td>\n      <td>2</td>\n    </tr>\n    <tr>\n      <th>765</th>\n      <td>7</td>\n      <td>119</td>\n      <td>0</td>\n      <td>0</td>\n      <td>0</td>\n      <td>25.2</td>\n      <td>0.209</td>\n      <td>2</td>\n    </tr>\n    <tr>\n      <th>766</th>\n      <td>1</td>\n      <td>95</td>\n      <td>66</td>\n      <td>13</td>\n      <td>38</td>\n      <td>19.6</td>\n      <td>0.334</td>\n      <td>1</td>\n    </tr>\n    <tr>\n      <th>767</th>\n      <td>1</td>\n      <td>181</td>\n      <td>64</td>\n      <td>30</td>\n      <td>180</td>\n      <td>34.1</td>\n      <td>0.328</td>\n      <td>2</td>\n    </tr>\n  </tbody>\n</table>\n<p>768 rows × 8 columns</p>\n</div>"
     },
     "execution_count": 140,
     "metadata": {},
     "output_type": "execute_result"
    }
   ],
   "source": [
    "X"
   ],
   "metadata": {
    "collapsed": false,
    "pycharm": {
     "name": "#%%\n"
    }
   }
  },
  {
   "cell_type": "code",
   "execution_count": 141,
   "outputs": [
    {
     "name": "stdout",
     "output_type": "stream",
     "text": [
      "[7]\n"
     ]
    }
   ],
   "source": [
    "categorical_features_indices = np.where(X.dtypes == 'category')[0]\n",
    "print(categorical_features_indices)"
   ],
   "metadata": {
    "collapsed": false,
    "pycharm": {
     "name": "#%%\n"
    }
   }
  },
  {
   "cell_type": "code",
   "execution_count": 143,
   "outputs": [
    {
     "name": "stdout",
     "output_type": "stream",
     "text": [
      "Preg          int64\n",
      " Plas         int64\n",
      " Pres         int64\n",
      " Skin         int64\n",
      " Insu         int64\n",
      " Mass       float64\n",
      " Pedi       float64\n",
      "age_cat    category\n",
      "dtype: object\n"
     ]
    }
   ],
   "source": [
    "print(X.dtypes)\n",
    "\n"
   ],
   "metadata": {
    "collapsed": false,
    "pycharm": {
     "name": "#%%\n"
    }
   }
  },
  {
   "cell_type": "code",
   "execution_count": 131,
   "outputs": [
    {
     "name": "stdout",
     "output_type": "stream",
     "text": [
      "None\n"
     ]
    }
   ],
   "source": [
    "print(X)"
   ],
   "metadata": {
    "collapsed": false,
    "pycharm": {
     "name": "#%%\n"
    }
   }
  },
  {
   "cell_type": "code",
   "execution_count": 144,
   "outputs": [],
   "source": [
    "X_train, X_test, y_train, y_test = train_test_split(X,y,test_size = 0.3,random_state = 42, stratify = y)"
   ],
   "metadata": {
    "collapsed": false,
    "pycharm": {
     "name": "#%%\n"
    }
   }
  },
  {
   "cell_type": "code",
   "execution_count": 146,
   "outputs": [
    {
     "name": "stdout",
     "output_type": "stream",
     "text": [
      "Learning rate set to 0.027178\n",
      "0:\tlearn: 0.6808677\ttest: 0.6822882\tbest: 0.6822882 (0)\ttotal: 1.38ms\tremaining: 1.38s\n",
      "1:\tlearn: 0.6690213\ttest: 0.6722366\tbest: 0.6722366 (1)\ttotal: 2.5ms\tremaining: 1.25s\n",
      "2:\tlearn: 0.6607610\ttest: 0.6643337\tbest: 0.6643337 (2)\ttotal: 3.56ms\tremaining: 1.18s\n",
      "3:\tlearn: 0.6488270\ttest: 0.6526545\tbest: 0.6526545 (3)\ttotal: 4.54ms\tremaining: 1.13s\n",
      "4:\tlearn: 0.6372987\ttest: 0.6411922\tbest: 0.6411922 (4)\ttotal: 5.41ms\tremaining: 1.08s\n",
      "5:\tlearn: 0.6274098\ttest: 0.6330198\tbest: 0.6330198 (5)\ttotal: 6.34ms\tremaining: 1.05s\n",
      "6:\tlearn: 0.6180888\ttest: 0.6234953\tbest: 0.6234953 (6)\ttotal: 7.28ms\tremaining: 1.03s\n",
      "7:\tlearn: 0.6092084\ttest: 0.6161624\tbest: 0.6161624 (7)\ttotal: 8.13ms\tremaining: 1.01s\n",
      "8:\tlearn: 0.6000055\ttest: 0.6086445\tbest: 0.6086445 (8)\ttotal: 9.02ms\tremaining: 993ms\n",
      "9:\tlearn: 0.5901614\ttest: 0.6012433\tbest: 0.6012433 (9)\ttotal: 9.88ms\tremaining: 978ms\n",
      "10:\tlearn: 0.5815915\ttest: 0.5936135\tbest: 0.5936135 (10)\ttotal: 10.8ms\tremaining: 967ms\n",
      "11:\tlearn: 0.5748902\ttest: 0.5882260\tbest: 0.5882260 (11)\ttotal: 11.6ms\tremaining: 957ms\n",
      "12:\tlearn: 0.5682023\ttest: 0.5833897\tbest: 0.5833897 (12)\ttotal: 12.5ms\tremaining: 953ms\n",
      "13:\tlearn: 0.5605184\ttest: 0.5768806\tbest: 0.5768806 (13)\ttotal: 13.9ms\tremaining: 982ms\n",
      "14:\tlearn: 0.5537406\ttest: 0.5714688\tbest: 0.5714688 (14)\ttotal: 14.8ms\tremaining: 973ms\n",
      "15:\tlearn: 0.5485457\ttest: 0.5666252\tbest: 0.5666252 (15)\ttotal: 15.7ms\tremaining: 966ms\n",
      "16:\tlearn: 0.5413811\ttest: 0.5608931\tbest: 0.5608931 (16)\ttotal: 16.5ms\tremaining: 955ms\n",
      "17:\tlearn: 0.5353435\ttest: 0.5552923\tbest: 0.5552923 (17)\ttotal: 17.9ms\tremaining: 975ms\n",
      "18:\tlearn: 0.5310853\ttest: 0.5520184\tbest: 0.5520184 (18)\ttotal: 18.7ms\tremaining: 964ms\n",
      "19:\tlearn: 0.5262884\ttest: 0.5484166\tbest: 0.5484166 (19)\ttotal: 19.5ms\tremaining: 954ms\n",
      "20:\tlearn: 0.5220480\ttest: 0.5447576\tbest: 0.5447576 (20)\ttotal: 20.2ms\tremaining: 941ms\n",
      "21:\tlearn: 0.5154591\ttest: 0.5390072\tbest: 0.5390072 (21)\ttotal: 20.9ms\tremaining: 929ms\n",
      "22:\tlearn: 0.5104069\ttest: 0.5361975\tbest: 0.5361975 (22)\ttotal: 21.6ms\tremaining: 919ms\n",
      "23:\tlearn: 0.5040949\ttest: 0.5335048\tbest: 0.5335048 (23)\ttotal: 22.4ms\tremaining: 910ms\n",
      "24:\tlearn: 0.5000674\ttest: 0.5300164\tbest: 0.5300164 (24)\ttotal: 23.3ms\tremaining: 909ms\n",
      "25:\tlearn: 0.4938409\ttest: 0.5252615\tbest: 0.5252615 (25)\ttotal: 24.1ms\tremaining: 905ms\n",
      "26:\tlearn: 0.4888295\ttest: 0.5217959\tbest: 0.5217959 (26)\ttotal: 24.9ms\tremaining: 899ms\n",
      "27:\tlearn: 0.4852111\ttest: 0.5184016\tbest: 0.5184016 (27)\ttotal: 25.8ms\tremaining: 894ms\n",
      "28:\tlearn: 0.4804452\ttest: 0.5150312\tbest: 0.5150312 (28)\ttotal: 26.6ms\tremaining: 891ms\n",
      "29:\tlearn: 0.4770102\ttest: 0.5118978\tbest: 0.5118978 (29)\ttotal: 27.4ms\tremaining: 885ms\n",
      "30:\tlearn: 0.4740119\ttest: 0.5096820\tbest: 0.5096820 (30)\ttotal: 28.2ms\tremaining: 880ms\n",
      "31:\tlearn: 0.4715437\ttest: 0.5082193\tbest: 0.5082193 (31)\ttotal: 29.1ms\tremaining: 880ms\n",
      "32:\tlearn: 0.4677305\ttest: 0.5050402\tbest: 0.5050402 (32)\ttotal: 29.8ms\tremaining: 874ms\n",
      "33:\tlearn: 0.4642172\ttest: 0.5024793\tbest: 0.5024793 (33)\ttotal: 30.5ms\tremaining: 868ms\n",
      "34:\tlearn: 0.4615692\ttest: 0.5001256\tbest: 0.5001256 (34)\ttotal: 31.3ms\tremaining: 864ms\n",
      "35:\tlearn: 0.4573040\ttest: 0.4978927\tbest: 0.4978927 (35)\ttotal: 32.1ms\tremaining: 859ms\n",
      "36:\tlearn: 0.4534883\ttest: 0.4956425\tbest: 0.4956425 (36)\ttotal: 32.9ms\tremaining: 855ms\n",
      "37:\tlearn: 0.4505614\ttest: 0.4934672\tbest: 0.4934672 (37)\ttotal: 33.6ms\tremaining: 851ms\n",
      "38:\tlearn: 0.4482429\ttest: 0.4906472\tbest: 0.4906472 (38)\ttotal: 34.4ms\tremaining: 847ms\n",
      "39:\tlearn: 0.4457745\ttest: 0.4895405\tbest: 0.4895405 (39)\ttotal: 35.1ms\tremaining: 842ms\n",
      "40:\tlearn: 0.4428070\ttest: 0.4879546\tbest: 0.4879546 (40)\ttotal: 35.9ms\tremaining: 839ms\n",
      "41:\tlearn: 0.4395608\ttest: 0.4851798\tbest: 0.4851798 (41)\ttotal: 36.6ms\tremaining: 835ms\n",
      "42:\tlearn: 0.4377736\ttest: 0.4841752\tbest: 0.4841752 (42)\ttotal: 37.4ms\tremaining: 832ms\n",
      "43:\tlearn: 0.4362321\ttest: 0.4832355\tbest: 0.4832355 (43)\ttotal: 38ms\tremaining: 826ms\n",
      "44:\tlearn: 0.4340726\ttest: 0.4822165\tbest: 0.4822165 (44)\ttotal: 38.7ms\tremaining: 822ms\n",
      "45:\tlearn: 0.4317853\ttest: 0.4806687\tbest: 0.4806687 (45)\ttotal: 39.4ms\tremaining: 818ms\n",
      "46:\tlearn: 0.4298205\ttest: 0.4795048\tbest: 0.4795048 (46)\ttotal: 40.2ms\tremaining: 814ms\n",
      "47:\tlearn: 0.4276451\ttest: 0.4773591\tbest: 0.4773591 (47)\ttotal: 40.9ms\tremaining: 812ms\n",
      "48:\tlearn: 0.4258992\ttest: 0.4769738\tbest: 0.4769738 (48)\ttotal: 41.6ms\tremaining: 808ms\n",
      "49:\tlearn: 0.4245199\ttest: 0.4755604\tbest: 0.4755604 (49)\ttotal: 42.4ms\tremaining: 805ms\n",
      "50:\tlearn: 0.4223482\ttest: 0.4746235\tbest: 0.4746235 (50)\ttotal: 43.1ms\tremaining: 803ms\n",
      "51:\tlearn: 0.4200642\ttest: 0.4727391\tbest: 0.4727391 (51)\ttotal: 44ms\tremaining: 802ms\n",
      "52:\tlearn: 0.4182779\ttest: 0.4719975\tbest: 0.4719975 (52)\ttotal: 44.7ms\tremaining: 799ms\n",
      "53:\tlearn: 0.4170579\ttest: 0.4713269\tbest: 0.4713269 (53)\ttotal: 45.5ms\tremaining: 798ms\n",
      "54:\tlearn: 0.4157142\ttest: 0.4711128\tbest: 0.4711128 (54)\ttotal: 46.3ms\tremaining: 795ms\n",
      "55:\tlearn: 0.4155357\ttest: 0.4710560\tbest: 0.4710560 (55)\ttotal: 46.6ms\tremaining: 786ms\n",
      "56:\tlearn: 0.4135976\ttest: 0.4700923\tbest: 0.4700923 (56)\ttotal: 47.4ms\tremaining: 784ms\n",
      "57:\tlearn: 0.4114901\ttest: 0.4683589\tbest: 0.4683589 (57)\ttotal: 48.1ms\tremaining: 781ms\n",
      "58:\tlearn: 0.4099289\ttest: 0.4671410\tbest: 0.4671410 (58)\ttotal: 48.9ms\tremaining: 779ms\n",
      "59:\tlearn: 0.4084648\ttest: 0.4664804\tbest: 0.4664804 (59)\ttotal: 49.6ms\tremaining: 776ms\n",
      "60:\tlearn: 0.4070241\ttest: 0.4654634\tbest: 0.4654634 (60)\ttotal: 50.2ms\tremaining: 773ms\n",
      "61:\tlearn: 0.4051026\ttest: 0.4641429\tbest: 0.4641429 (61)\ttotal: 50.9ms\tremaining: 771ms\n",
      "62:\tlearn: 0.4029820\ttest: 0.4637977\tbest: 0.4637977 (62)\ttotal: 51.6ms\tremaining: 768ms\n",
      "63:\tlearn: 0.4016310\ttest: 0.4637267\tbest: 0.4637267 (63)\ttotal: 52.4ms\tremaining: 766ms\n",
      "64:\tlearn: 0.4006519\ttest: 0.4628221\tbest: 0.4628221 (64)\ttotal: 53ms\tremaining: 763ms\n",
      "65:\tlearn: 0.3995700\ttest: 0.4622911\tbest: 0.4622911 (65)\ttotal: 53.7ms\tremaining: 761ms\n",
      "66:\tlearn: 0.3976786\ttest: 0.4610700\tbest: 0.4610700 (66)\ttotal: 54.5ms\tremaining: 759ms\n",
      "67:\tlearn: 0.3966889\ttest: 0.4604916\tbest: 0.4604916 (67)\ttotal: 55.6ms\tremaining: 762ms\n",
      "68:\tlearn: 0.3958171\ttest: 0.4598801\tbest: 0.4598801 (68)\ttotal: 56.3ms\tremaining: 760ms\n",
      "69:\tlearn: 0.3946076\ttest: 0.4596942\tbest: 0.4596942 (69)\ttotal: 57.1ms\tremaining: 758ms\n",
      "70:\tlearn: 0.3935369\ttest: 0.4591157\tbest: 0.4591157 (70)\ttotal: 57.8ms\tremaining: 757ms\n",
      "71:\tlearn: 0.3922672\ttest: 0.4581476\tbest: 0.4581476 (71)\ttotal: 58.5ms\tremaining: 755ms\n",
      "72:\tlearn: 0.3914775\ttest: 0.4578042\tbest: 0.4578042 (72)\ttotal: 59.5ms\tremaining: 755ms\n",
      "73:\tlearn: 0.3897201\ttest: 0.4572729\tbest: 0.4572729 (73)\ttotal: 60.5ms\tremaining: 757ms\n",
      "74:\tlearn: 0.3883302\ttest: 0.4565660\tbest: 0.4565660 (74)\ttotal: 61.3ms\tremaining: 756ms\n",
      "75:\tlearn: 0.3874794\ttest: 0.4558585\tbest: 0.4558585 (75)\ttotal: 62.1ms\tremaining: 755ms\n",
      "76:\tlearn: 0.3866011\ttest: 0.4559519\tbest: 0.4558585 (75)\ttotal: 62.9ms\tremaining: 754ms\n",
      "77:\tlearn: 0.3855398\ttest: 0.4550744\tbest: 0.4550744 (77)\ttotal: 63.7ms\tremaining: 752ms\n",
      "78:\tlearn: 0.3836985\ttest: 0.4539046\tbest: 0.4539046 (78)\ttotal: 64.4ms\tremaining: 751ms\n",
      "79:\tlearn: 0.3824375\ttest: 0.4538079\tbest: 0.4538079 (79)\ttotal: 65.3ms\tremaining: 751ms\n",
      "80:\tlearn: 0.3813669\ttest: 0.4535027\tbest: 0.4535027 (80)\ttotal: 66.1ms\tremaining: 749ms\n",
      "81:\tlearn: 0.3796616\ttest: 0.4533988\tbest: 0.4533988 (81)\ttotal: 66.8ms\tremaining: 748ms\n",
      "82:\tlearn: 0.3783382\ttest: 0.4533003\tbest: 0.4533003 (82)\ttotal: 67.5ms\tremaining: 746ms\n",
      "83:\tlearn: 0.3768280\ttest: 0.4530552\tbest: 0.4530552 (83)\ttotal: 68.3ms\tremaining: 745ms\n",
      "84:\tlearn: 0.3758165\ttest: 0.4532463\tbest: 0.4530552 (83)\ttotal: 69ms\tremaining: 743ms\n",
      "85:\tlearn: 0.3748572\ttest: 0.4528541\tbest: 0.4528541 (85)\ttotal: 69.7ms\tremaining: 740ms\n",
      "86:\tlearn: 0.3737123\ttest: 0.4516964\tbest: 0.4516964 (86)\ttotal: 70.4ms\tremaining: 738ms\n",
      "87:\tlearn: 0.3726776\ttest: 0.4513408\tbest: 0.4513408 (87)\ttotal: 71.1ms\tremaining: 737ms\n",
      "88:\tlearn: 0.3711856\ttest: 0.4504326\tbest: 0.4504326 (88)\ttotal: 71.9ms\tremaining: 736ms\n",
      "89:\tlearn: 0.3694189\ttest: 0.4500203\tbest: 0.4500203 (89)\ttotal: 72.6ms\tremaining: 734ms\n",
      "90:\tlearn: 0.3680367\ttest: 0.4496635\tbest: 0.4496635 (90)\ttotal: 73.3ms\tremaining: 732ms\n",
      "91:\tlearn: 0.3675687\ttest: 0.4497263\tbest: 0.4496635 (90)\ttotal: 74ms\tremaining: 730ms\n",
      "92:\tlearn: 0.3666216\ttest: 0.4495839\tbest: 0.4495839 (92)\ttotal: 74.7ms\tremaining: 729ms\n",
      "93:\tlearn: 0.3662161\ttest: 0.4496525\tbest: 0.4495839 (92)\ttotal: 75.1ms\tremaining: 724ms\n",
      "94:\tlearn: 0.3650926\ttest: 0.4489865\tbest: 0.4489865 (94)\ttotal: 75.9ms\tremaining: 723ms\n",
      "95:\tlearn: 0.3637155\ttest: 0.4485892\tbest: 0.4485892 (95)\ttotal: 76.7ms\tremaining: 722ms\n",
      "96:\tlearn: 0.3631377\ttest: 0.4488061\tbest: 0.4485892 (95)\ttotal: 79.1ms\tremaining: 736ms\n",
      "97:\tlearn: 0.3625584\ttest: 0.4487216\tbest: 0.4485892 (95)\ttotal: 80ms\tremaining: 736ms\n",
      "98:\tlearn: 0.3616826\ttest: 0.4482895\tbest: 0.4482895 (98)\ttotal: 80.7ms\tremaining: 735ms\n",
      "99:\tlearn: 0.3605483\ttest: 0.4481336\tbest: 0.4481336 (99)\ttotal: 81.4ms\tremaining: 733ms\n",
      "100:\tlearn: 0.3598109\ttest: 0.4482433\tbest: 0.4481336 (99)\ttotal: 82.1ms\tremaining: 731ms\n",
      "101:\tlearn: 0.3588178\ttest: 0.4476533\tbest: 0.4476533 (101)\ttotal: 83.1ms\tremaining: 731ms\n",
      "102:\tlearn: 0.3579160\ttest: 0.4467311\tbest: 0.4467311 (102)\ttotal: 83.8ms\tremaining: 730ms\n",
      "103:\tlearn: 0.3567508\ttest: 0.4468923\tbest: 0.4467311 (102)\ttotal: 84.6ms\tremaining: 729ms\n",
      "104:\tlearn: 0.3555194\ttest: 0.4470589\tbest: 0.4467311 (102)\ttotal: 85.3ms\tremaining: 727ms\n",
      "105:\tlearn: 0.3545199\ttest: 0.4464491\tbest: 0.4464491 (105)\ttotal: 86.1ms\tremaining: 726ms\n",
      "106:\tlearn: 0.3540617\ttest: 0.4460209\tbest: 0.4460209 (106)\ttotal: 86.8ms\tremaining: 724ms\n",
      "107:\tlearn: 0.3532981\ttest: 0.4460449\tbest: 0.4460209 (106)\ttotal: 87.5ms\tremaining: 722ms\n",
      "108:\tlearn: 0.3522092\ttest: 0.4461373\tbest: 0.4460209 (106)\ttotal: 88.1ms\tremaining: 720ms\n",
      "109:\tlearn: 0.3508178\ttest: 0.4449059\tbest: 0.4449059 (109)\ttotal: 88.8ms\tremaining: 719ms\n",
      "110:\tlearn: 0.3499149\ttest: 0.4448669\tbest: 0.4448669 (110)\ttotal: 89.5ms\tremaining: 717ms\n",
      "111:\tlearn: 0.3493625\ttest: 0.4449184\tbest: 0.4448669 (110)\ttotal: 90.3ms\tremaining: 716ms\n",
      "112:\tlearn: 0.3478019\ttest: 0.4451532\tbest: 0.4448669 (110)\ttotal: 91ms\tremaining: 715ms\n",
      "113:\tlearn: 0.3473615\ttest: 0.4446468\tbest: 0.4446468 (113)\ttotal: 91.6ms\tremaining: 712ms\n",
      "114:\tlearn: 0.3465381\ttest: 0.4451027\tbest: 0.4446468 (113)\ttotal: 92.3ms\tremaining: 710ms\n",
      "115:\tlearn: 0.3458597\ttest: 0.4447295\tbest: 0.4446468 (113)\ttotal: 93ms\tremaining: 709ms\n",
      "116:\tlearn: 0.3452582\ttest: 0.4448006\tbest: 0.4446468 (113)\ttotal: 93.6ms\tremaining: 707ms\n",
      "117:\tlearn: 0.3440731\ttest: 0.4443788\tbest: 0.4443788 (117)\ttotal: 94.4ms\tremaining: 705ms\n",
      "118:\tlearn: 0.3438067\ttest: 0.4443568\tbest: 0.4443568 (118)\ttotal: 94.9ms\tremaining: 702ms\n",
      "119:\tlearn: 0.3429527\ttest: 0.4439255\tbest: 0.4439255 (119)\ttotal: 95.5ms\tremaining: 701ms\n",
      "120:\tlearn: 0.3422924\ttest: 0.4437178\tbest: 0.4437178 (120)\ttotal: 96.2ms\tremaining: 699ms\n",
      "121:\tlearn: 0.3419506\ttest: 0.4436035\tbest: 0.4436035 (121)\ttotal: 96.9ms\tremaining: 698ms\n",
      "122:\tlearn: 0.3410304\ttest: 0.4437952\tbest: 0.4436035 (121)\ttotal: 97.7ms\tremaining: 696ms\n",
      "123:\tlearn: 0.3402767\ttest: 0.4437133\tbest: 0.4436035 (121)\ttotal: 98.4ms\tremaining: 695ms\n",
      "124:\tlearn: 0.3392572\ttest: 0.4432326\tbest: 0.4432326 (124)\ttotal: 99.1ms\tremaining: 694ms\n",
      "125:\tlearn: 0.3384118\ttest: 0.4429719\tbest: 0.4429719 (125)\ttotal: 99.8ms\tremaining: 692ms\n",
      "126:\tlearn: 0.3377666\ttest: 0.4428542\tbest: 0.4428542 (126)\ttotal: 100ms\tremaining: 690ms\n",
      "127:\tlearn: 0.3368297\ttest: 0.4430302\tbest: 0.4428542 (126)\ttotal: 102ms\tremaining: 692ms\n",
      "128:\tlearn: 0.3365627\ttest: 0.4428678\tbest: 0.4428542 (126)\ttotal: 102ms\tremaining: 691ms\n",
      "129:\tlearn: 0.3358914\ttest: 0.4430760\tbest: 0.4428542 (126)\ttotal: 103ms\tremaining: 689ms\n",
      "130:\tlearn: 0.3346215\ttest: 0.4433083\tbest: 0.4428542 (126)\ttotal: 104ms\tremaining: 688ms\n",
      "131:\tlearn: 0.3337252\ttest: 0.4434074\tbest: 0.4428542 (126)\ttotal: 104ms\tremaining: 686ms\n",
      "132:\tlearn: 0.3328222\ttest: 0.4435865\tbest: 0.4428542 (126)\ttotal: 105ms\tremaining: 685ms\n",
      "133:\tlearn: 0.3317208\ttest: 0.4434621\tbest: 0.4428542 (126)\ttotal: 106ms\tremaining: 685ms\n",
      "134:\tlearn: 0.3312562\ttest: 0.4434712\tbest: 0.4428542 (126)\ttotal: 107ms\tremaining: 687ms\n",
      "135:\tlearn: 0.3299398\ttest: 0.4431544\tbest: 0.4428542 (126)\ttotal: 108ms\tremaining: 686ms\n",
      "136:\tlearn: 0.3296071\ttest: 0.4430542\tbest: 0.4428542 (126)\ttotal: 109ms\tremaining: 685ms\n",
      "137:\tlearn: 0.3288113\ttest: 0.4438056\tbest: 0.4428542 (126)\ttotal: 110ms\tremaining: 684ms\n",
      "138:\tlearn: 0.3283365\ttest: 0.4438708\tbest: 0.4428542 (126)\ttotal: 110ms\tremaining: 683ms\n",
      "139:\tlearn: 0.3278649\ttest: 0.4438216\tbest: 0.4428542 (126)\ttotal: 111ms\tremaining: 682ms\n",
      "140:\tlearn: 0.3270109\ttest: 0.4435918\tbest: 0.4428542 (126)\ttotal: 112ms\tremaining: 681ms\n",
      "141:\tlearn: 0.3260477\ttest: 0.4433233\tbest: 0.4428542 (126)\ttotal: 112ms\tremaining: 679ms\n",
      "142:\tlearn: 0.3250882\ttest: 0.4438734\tbest: 0.4428542 (126)\ttotal: 113ms\tremaining: 678ms\n",
      "143:\tlearn: 0.3241534\ttest: 0.4440807\tbest: 0.4428542 (126)\ttotal: 114ms\tremaining: 678ms\n",
      "144:\tlearn: 0.3233465\ttest: 0.4443576\tbest: 0.4428542 (126)\ttotal: 115ms\tremaining: 676ms\n",
      "145:\tlearn: 0.3227549\ttest: 0.4443167\tbest: 0.4428542 (126)\ttotal: 115ms\tremaining: 675ms\n",
      "146:\tlearn: 0.3220239\ttest: 0.4443560\tbest: 0.4428542 (126)\ttotal: 116ms\tremaining: 674ms\n",
      "147:\tlearn: 0.3214726\ttest: 0.4443702\tbest: 0.4428542 (126)\ttotal: 117ms\tremaining: 673ms\n",
      "148:\tlearn: 0.3207339\ttest: 0.4447373\tbest: 0.4428542 (126)\ttotal: 118ms\tremaining: 672ms\n",
      "149:\tlearn: 0.3202675\ttest: 0.4445002\tbest: 0.4428542 (126)\ttotal: 118ms\tremaining: 670ms\n",
      "150:\tlearn: 0.3199687\ttest: 0.4446180\tbest: 0.4428542 (126)\ttotal: 119ms\tremaining: 667ms\n",
      "151:\tlearn: 0.3190821\ttest: 0.4444310\tbest: 0.4428542 (126)\ttotal: 119ms\tremaining: 666ms\n",
      "152:\tlearn: 0.3181032\ttest: 0.4446915\tbest: 0.4428542 (126)\ttotal: 120ms\tremaining: 665ms\n",
      "153:\tlearn: 0.3174871\ttest: 0.4445318\tbest: 0.4428542 (126)\ttotal: 121ms\tremaining: 665ms\n",
      "154:\tlearn: 0.3166777\ttest: 0.4446685\tbest: 0.4428542 (126)\ttotal: 122ms\tremaining: 664ms\n",
      "155:\tlearn: 0.3160575\ttest: 0.4444989\tbest: 0.4428542 (126)\ttotal: 123ms\tremaining: 664ms\n",
      "156:\tlearn: 0.3160575\ttest: 0.4444990\tbest: 0.4428542 (126)\ttotal: 123ms\tremaining: 660ms\n",
      "157:\tlearn: 0.3146442\ttest: 0.4450402\tbest: 0.4428542 (126)\ttotal: 124ms\tremaining: 659ms\n",
      "158:\tlearn: 0.3138652\ttest: 0.4449971\tbest: 0.4428542 (126)\ttotal: 124ms\tremaining: 658ms\n",
      "159:\tlearn: 0.3134380\ttest: 0.4447912\tbest: 0.4428542 (126)\ttotal: 125ms\tremaining: 657ms\n",
      "160:\tlearn: 0.3126879\ttest: 0.4443377\tbest: 0.4428542 (126)\ttotal: 126ms\tremaining: 655ms\n",
      "161:\tlearn: 0.3121445\ttest: 0.4443295\tbest: 0.4428542 (126)\ttotal: 126ms\tremaining: 654ms\n",
      "162:\tlearn: 0.3118773\ttest: 0.4443082\tbest: 0.4428542 (126)\ttotal: 127ms\tremaining: 652ms\n",
      "163:\tlearn: 0.3112903\ttest: 0.4439800\tbest: 0.4428542 (126)\ttotal: 128ms\tremaining: 651ms\n",
      "164:\tlearn: 0.3110827\ttest: 0.4439839\tbest: 0.4428542 (126)\ttotal: 128ms\tremaining: 650ms\n",
      "165:\tlearn: 0.3105758\ttest: 0.4440259\tbest: 0.4428542 (126)\ttotal: 129ms\tremaining: 649ms\n",
      "166:\tlearn: 0.3099742\ttest: 0.4442070\tbest: 0.4428542 (126)\ttotal: 130ms\tremaining: 648ms\n",
      "167:\tlearn: 0.3090308\ttest: 0.4441756\tbest: 0.4428542 (126)\ttotal: 131ms\tremaining: 646ms\n",
      "168:\tlearn: 0.3079774\ttest: 0.4444256\tbest: 0.4428542 (126)\ttotal: 131ms\tremaining: 645ms\n",
      "169:\tlearn: 0.3065109\ttest: 0.4446813\tbest: 0.4428542 (126)\ttotal: 132ms\tremaining: 644ms\n",
      "170:\tlearn: 0.3052283\ttest: 0.4443976\tbest: 0.4428542 (126)\ttotal: 133ms\tremaining: 643ms\n",
      "171:\tlearn: 0.3050255\ttest: 0.4442905\tbest: 0.4428542 (126)\ttotal: 133ms\tremaining: 641ms\n",
      "172:\tlearn: 0.3040003\ttest: 0.4444418\tbest: 0.4428542 (126)\ttotal: 134ms\tremaining: 640ms\n",
      "173:\tlearn: 0.3037462\ttest: 0.4444344\tbest: 0.4428542 (126)\ttotal: 135ms\tremaining: 639ms\n",
      "174:\tlearn: 0.3036608\ttest: 0.4444483\tbest: 0.4428542 (126)\ttotal: 135ms\tremaining: 638ms\n",
      "175:\tlearn: 0.3027781\ttest: 0.4445171\tbest: 0.4428542 (126)\ttotal: 136ms\tremaining: 637ms\n",
      "176:\tlearn: 0.3021207\ttest: 0.4444319\tbest: 0.4428542 (126)\ttotal: 137ms\tremaining: 636ms\n",
      "177:\tlearn: 0.3013995\ttest: 0.4448977\tbest: 0.4428542 (126)\ttotal: 138ms\tremaining: 635ms\n",
      "178:\tlearn: 0.3006320\ttest: 0.4442219\tbest: 0.4428542 (126)\ttotal: 138ms\tremaining: 634ms\n",
      "179:\tlearn: 0.2999665\ttest: 0.4441700\tbest: 0.4428542 (126)\ttotal: 139ms\tremaining: 633ms\n",
      "180:\tlearn: 0.2994167\ttest: 0.4445137\tbest: 0.4428542 (126)\ttotal: 140ms\tremaining: 632ms\n",
      "181:\tlearn: 0.2987673\ttest: 0.4445897\tbest: 0.4428542 (126)\ttotal: 140ms\tremaining: 631ms\n",
      "182:\tlearn: 0.2978196\ttest: 0.4442471\tbest: 0.4428542 (126)\ttotal: 141ms\tremaining: 630ms\n",
      "183:\tlearn: 0.2971875\ttest: 0.4439511\tbest: 0.4428542 (126)\ttotal: 142ms\tremaining: 629ms\n",
      "184:\tlearn: 0.2962791\ttest: 0.4441892\tbest: 0.4428542 (126)\ttotal: 143ms\tremaining: 628ms\n",
      "185:\tlearn: 0.2962789\ttest: 0.4441900\tbest: 0.4428542 (126)\ttotal: 143ms\tremaining: 625ms\n",
      "186:\tlearn: 0.2953777\ttest: 0.4437862\tbest: 0.4428542 (126)\ttotal: 144ms\tremaining: 625ms\n",
      "187:\tlearn: 0.2947273\ttest: 0.4434549\tbest: 0.4428542 (126)\ttotal: 144ms\tremaining: 623ms\n",
      "188:\tlearn: 0.2942819\ttest: 0.4437157\tbest: 0.4428542 (126)\ttotal: 145ms\tremaining: 622ms\n",
      "189:\tlearn: 0.2937522\ttest: 0.4435124\tbest: 0.4428542 (126)\ttotal: 146ms\tremaining: 621ms\n",
      "190:\tlearn: 0.2923320\ttest: 0.4437585\tbest: 0.4428542 (126)\ttotal: 146ms\tremaining: 620ms\n",
      "191:\tlearn: 0.2913690\ttest: 0.4442713\tbest: 0.4428542 (126)\ttotal: 147ms\tremaining: 619ms\n",
      "192:\tlearn: 0.2907590\ttest: 0.4446237\tbest: 0.4428542 (126)\ttotal: 148ms\tremaining: 619ms\n",
      "193:\tlearn: 0.2898525\ttest: 0.4447897\tbest: 0.4428542 (126)\ttotal: 149ms\tremaining: 618ms\n",
      "194:\tlearn: 0.2891862\ttest: 0.4445756\tbest: 0.4428542 (126)\ttotal: 149ms\tremaining: 617ms\n",
      "195:\tlearn: 0.2884318\ttest: 0.4447110\tbest: 0.4428542 (126)\ttotal: 150ms\tremaining: 616ms\n",
      "196:\tlearn: 0.2882881\ttest: 0.4449201\tbest: 0.4428542 (126)\ttotal: 151ms\tremaining: 614ms\n",
      "197:\tlearn: 0.2880108\ttest: 0.4449448\tbest: 0.4428542 (126)\ttotal: 151ms\tremaining: 613ms\n",
      "198:\tlearn: 0.2878044\ttest: 0.4448837\tbest: 0.4428542 (126)\ttotal: 152ms\tremaining: 613ms\n",
      "199:\tlearn: 0.2873989\ttest: 0.4447560\tbest: 0.4428542 (126)\ttotal: 153ms\tremaining: 612ms\n",
      "200:\tlearn: 0.2871645\ttest: 0.4447843\tbest: 0.4428542 (126)\ttotal: 154ms\tremaining: 611ms\n",
      "201:\tlearn: 0.2865651\ttest: 0.4450877\tbest: 0.4428542 (126)\ttotal: 154ms\tremaining: 610ms\n",
      "202:\tlearn: 0.2861020\ttest: 0.4455401\tbest: 0.4428542 (126)\ttotal: 155ms\tremaining: 609ms\n",
      "203:\tlearn: 0.2857996\ttest: 0.4454690\tbest: 0.4428542 (126)\ttotal: 156ms\tremaining: 608ms\n",
      "204:\tlearn: 0.2850486\ttest: 0.4454247\tbest: 0.4428542 (126)\ttotal: 157ms\tremaining: 607ms\n",
      "205:\tlearn: 0.2843143\ttest: 0.4447423\tbest: 0.4428542 (126)\ttotal: 157ms\tremaining: 606ms\n",
      "206:\tlearn: 0.2835440\ttest: 0.4451137\tbest: 0.4428542 (126)\ttotal: 158ms\tremaining: 605ms\n",
      "207:\tlearn: 0.2827595\ttest: 0.4453085\tbest: 0.4428542 (126)\ttotal: 159ms\tremaining: 605ms\n",
      "208:\tlearn: 0.2823400\ttest: 0.4451106\tbest: 0.4428542 (126)\ttotal: 160ms\tremaining: 604ms\n",
      "209:\tlearn: 0.2816120\ttest: 0.4450664\tbest: 0.4428542 (126)\ttotal: 160ms\tremaining: 603ms\n",
      "210:\tlearn: 0.2803811\ttest: 0.4451482\tbest: 0.4428542 (126)\ttotal: 161ms\tremaining: 602ms\n",
      "211:\tlearn: 0.2802742\ttest: 0.4451527\tbest: 0.4428542 (126)\ttotal: 162ms\tremaining: 601ms\n",
      "212:\tlearn: 0.2795844\ttest: 0.4455179\tbest: 0.4428542 (126)\ttotal: 162ms\tremaining: 600ms\n",
      "213:\tlearn: 0.2791542\ttest: 0.4456931\tbest: 0.4428542 (126)\ttotal: 163ms\tremaining: 599ms\n",
      "214:\tlearn: 0.2782973\ttest: 0.4458220\tbest: 0.4428542 (126)\ttotal: 164ms\tremaining: 598ms\n",
      "215:\tlearn: 0.2779392\ttest: 0.4459438\tbest: 0.4428542 (126)\ttotal: 165ms\tremaining: 598ms\n",
      "216:\tlearn: 0.2775249\ttest: 0.4456724\tbest: 0.4428542 (126)\ttotal: 165ms\tremaining: 597ms\n",
      "217:\tlearn: 0.2774746\ttest: 0.4456337\tbest: 0.4428542 (126)\ttotal: 166ms\tremaining: 595ms\n",
      "218:\tlearn: 0.2768141\ttest: 0.4451757\tbest: 0.4428542 (126)\ttotal: 167ms\tremaining: 594ms\n",
      "219:\tlearn: 0.2761378\ttest: 0.4453301\tbest: 0.4428542 (126)\ttotal: 167ms\tremaining: 593ms\n",
      "220:\tlearn: 0.2753603\ttest: 0.4451720\tbest: 0.4428542 (126)\ttotal: 168ms\tremaining: 592ms\n",
      "221:\tlearn: 0.2749322\ttest: 0.4447454\tbest: 0.4428542 (126)\ttotal: 169ms\tremaining: 592ms\n",
      "222:\tlearn: 0.2745295\ttest: 0.4449078\tbest: 0.4428542 (126)\ttotal: 170ms\tremaining: 592ms\n",
      "223:\tlearn: 0.2741099\ttest: 0.4444775\tbest: 0.4428542 (126)\ttotal: 171ms\tremaining: 591ms\n",
      "224:\tlearn: 0.2736270\ttest: 0.4445427\tbest: 0.4428542 (126)\ttotal: 171ms\tremaining: 590ms\n",
      "225:\tlearn: 0.2729992\ttest: 0.4445272\tbest: 0.4428542 (126)\ttotal: 172ms\tremaining: 589ms\n",
      "226:\tlearn: 0.2724217\ttest: 0.4444541\tbest: 0.4428542 (126)\ttotal: 173ms\tremaining: 588ms\n",
      "227:\tlearn: 0.2720477\ttest: 0.4442097\tbest: 0.4428542 (126)\ttotal: 173ms\tremaining: 587ms\n",
      "228:\tlearn: 0.2714100\ttest: 0.4443996\tbest: 0.4428542 (126)\ttotal: 174ms\tremaining: 586ms\n",
      "229:\tlearn: 0.2709924\ttest: 0.4445887\tbest: 0.4428542 (126)\ttotal: 175ms\tremaining: 586ms\n",
      "230:\tlearn: 0.2705701\ttest: 0.4446995\tbest: 0.4428542 (126)\ttotal: 176ms\tremaining: 585ms\n",
      "231:\tlearn: 0.2703521\ttest: 0.4448150\tbest: 0.4428542 (126)\ttotal: 176ms\tremaining: 583ms\n",
      "232:\tlearn: 0.2702286\ttest: 0.4448397\tbest: 0.4428542 (126)\ttotal: 177ms\tremaining: 582ms\n",
      "233:\tlearn: 0.2692169\ttest: 0.4444106\tbest: 0.4428542 (126)\ttotal: 178ms\tremaining: 582ms\n",
      "234:\tlearn: 0.2688427\ttest: 0.4449019\tbest: 0.4428542 (126)\ttotal: 178ms\tremaining: 581ms\n",
      "235:\tlearn: 0.2683613\ttest: 0.4448570\tbest: 0.4428542 (126)\ttotal: 179ms\tremaining: 580ms\n",
      "236:\tlearn: 0.2669120\ttest: 0.4443545\tbest: 0.4428542 (126)\ttotal: 180ms\tremaining: 579ms\n",
      "237:\tlearn: 0.2665974\ttest: 0.4442215\tbest: 0.4428542 (126)\ttotal: 181ms\tremaining: 578ms\n",
      "238:\tlearn: 0.2661036\ttest: 0.4444365\tbest: 0.4428542 (126)\ttotal: 181ms\tremaining: 577ms\n",
      "239:\tlearn: 0.2658649\ttest: 0.4443171\tbest: 0.4428542 (126)\ttotal: 182ms\tremaining: 576ms\n",
      "240:\tlearn: 0.2651142\ttest: 0.4441056\tbest: 0.4428542 (126)\ttotal: 183ms\tremaining: 575ms\n",
      "241:\tlearn: 0.2645051\ttest: 0.4434896\tbest: 0.4428542 (126)\ttotal: 184ms\tremaining: 575ms\n",
      "242:\tlearn: 0.2638264\ttest: 0.4431603\tbest: 0.4428542 (126)\ttotal: 185ms\tremaining: 575ms\n",
      "243:\tlearn: 0.2627614\ttest: 0.4434125\tbest: 0.4428542 (126)\ttotal: 185ms\tremaining: 575ms\n",
      "244:\tlearn: 0.2613701\ttest: 0.4432247\tbest: 0.4428542 (126)\ttotal: 186ms\tremaining: 574ms\n",
      "245:\tlearn: 0.2608023\ttest: 0.4429926\tbest: 0.4428542 (126)\ttotal: 187ms\tremaining: 574ms\n",
      "246:\tlearn: 0.2596893\ttest: 0.4436790\tbest: 0.4428542 (126)\ttotal: 188ms\tremaining: 573ms\n",
      "247:\tlearn: 0.2591326\ttest: 0.4434781\tbest: 0.4428542 (126)\ttotal: 189ms\tremaining: 573ms\n",
      "248:\tlearn: 0.2582128\ttest: 0.4432317\tbest: 0.4428542 (126)\ttotal: 190ms\tremaining: 573ms\n",
      "249:\tlearn: 0.2577158\ttest: 0.4431896\tbest: 0.4428542 (126)\ttotal: 191ms\tremaining: 572ms\n",
      "250:\tlearn: 0.2573548\ttest: 0.4429514\tbest: 0.4428542 (126)\ttotal: 191ms\tremaining: 571ms\n",
      "251:\tlearn: 0.2563859\ttest: 0.4426683\tbest: 0.4426683 (251)\ttotal: 192ms\tremaining: 570ms\n",
      "252:\tlearn: 0.2559475\ttest: 0.4428253\tbest: 0.4426683 (251)\ttotal: 193ms\tremaining: 570ms\n",
      "253:\tlearn: 0.2551829\ttest: 0.4429431\tbest: 0.4426683 (251)\ttotal: 194ms\tremaining: 569ms\n",
      "254:\tlearn: 0.2548134\ttest: 0.4427344\tbest: 0.4426683 (251)\ttotal: 194ms\tremaining: 568ms\n",
      "255:\tlearn: 0.2545027\ttest: 0.4427882\tbest: 0.4426683 (251)\ttotal: 195ms\tremaining: 567ms\n",
      "256:\tlearn: 0.2537799\ttest: 0.4428748\tbest: 0.4426683 (251)\ttotal: 196ms\tremaining: 567ms\n",
      "257:\tlearn: 0.2533345\ttest: 0.4429048\tbest: 0.4426683 (251)\ttotal: 197ms\tremaining: 566ms\n",
      "258:\tlearn: 0.2532062\ttest: 0.4428567\tbest: 0.4426683 (251)\ttotal: 197ms\tremaining: 565ms\n",
      "259:\tlearn: 0.2528141\ttest: 0.4426428\tbest: 0.4426428 (259)\ttotal: 198ms\tremaining: 564ms\n",
      "260:\tlearn: 0.2525591\ttest: 0.4427644\tbest: 0.4426428 (259)\ttotal: 199ms\tremaining: 564ms\n",
      "261:\tlearn: 0.2516314\ttest: 0.4425940\tbest: 0.4425940 (261)\ttotal: 200ms\tremaining: 564ms\n",
      "262:\tlearn: 0.2507601\ttest: 0.4427885\tbest: 0.4425940 (261)\ttotal: 201ms\tremaining: 564ms\n",
      "263:\tlearn: 0.2505362\ttest: 0.4428335\tbest: 0.4425940 (261)\ttotal: 202ms\tremaining: 563ms\n",
      "264:\tlearn: 0.2502432\ttest: 0.4424586\tbest: 0.4424586 (264)\ttotal: 203ms\tremaining: 563ms\n",
      "265:\tlearn: 0.2487386\ttest: 0.4422783\tbest: 0.4422783 (265)\ttotal: 204ms\tremaining: 562ms\n",
      "266:\tlearn: 0.2476441\ttest: 0.4418985\tbest: 0.4418985 (266)\ttotal: 204ms\tremaining: 561ms\n",
      "267:\tlearn: 0.2472199\ttest: 0.4418070\tbest: 0.4418070 (267)\ttotal: 205ms\tremaining: 560ms\n",
      "268:\tlearn: 0.2463545\ttest: 0.4417987\tbest: 0.4417987 (268)\ttotal: 206ms\tremaining: 559ms\n",
      "269:\tlearn: 0.2453109\ttest: 0.4422986\tbest: 0.4417987 (268)\ttotal: 206ms\tremaining: 558ms\n",
      "270:\tlearn: 0.2444569\ttest: 0.4425305\tbest: 0.4417987 (268)\ttotal: 207ms\tremaining: 557ms\n",
      "271:\tlearn: 0.2441315\ttest: 0.4426610\tbest: 0.4417987 (268)\ttotal: 208ms\tremaining: 557ms\n",
      "272:\tlearn: 0.2437398\ttest: 0.4428341\tbest: 0.4417987 (268)\ttotal: 209ms\tremaining: 556ms\n",
      "273:\tlearn: 0.2429221\ttest: 0.4430264\tbest: 0.4417987 (268)\ttotal: 210ms\tremaining: 555ms\n",
      "274:\tlearn: 0.2427212\ttest: 0.4430724\tbest: 0.4417987 (268)\ttotal: 210ms\tremaining: 554ms\n",
      "275:\tlearn: 0.2423560\ttest: 0.4428817\tbest: 0.4417987 (268)\ttotal: 215ms\tremaining: 563ms\n",
      "276:\tlearn: 0.2416094\ttest: 0.4431604\tbest: 0.4417987 (268)\ttotal: 217ms\tremaining: 567ms\n",
      "277:\tlearn: 0.2414957\ttest: 0.4429982\tbest: 0.4417987 (268)\ttotal: 218ms\tremaining: 566ms\n",
      "278:\tlearn: 0.2413263\ttest: 0.4431139\tbest: 0.4417987 (268)\ttotal: 219ms\tremaining: 565ms\n",
      "279:\tlearn: 0.2406318\ttest: 0.4430620\tbest: 0.4417987 (268)\ttotal: 219ms\tremaining: 564ms\n",
      "280:\tlearn: 0.2402535\ttest: 0.4430894\tbest: 0.4417987 (268)\ttotal: 220ms\tremaining: 564ms\n",
      "281:\tlearn: 0.2396389\ttest: 0.4431754\tbest: 0.4417987 (268)\ttotal: 221ms\tremaining: 563ms\n",
      "282:\tlearn: 0.2392153\ttest: 0.4427794\tbest: 0.4417987 (268)\ttotal: 222ms\tremaining: 562ms\n",
      "283:\tlearn: 0.2381445\ttest: 0.4426377\tbest: 0.4417987 (268)\ttotal: 223ms\tremaining: 563ms\n",
      "284:\tlearn: 0.2379817\ttest: 0.4425209\tbest: 0.4417987 (268)\ttotal: 224ms\tremaining: 562ms\n",
      "285:\tlearn: 0.2373917\ttest: 0.4419885\tbest: 0.4417987 (268)\ttotal: 225ms\tremaining: 562ms\n",
      "286:\tlearn: 0.2371957\ttest: 0.4418713\tbest: 0.4417987 (268)\ttotal: 226ms\tremaining: 561ms\n",
      "287:\tlearn: 0.2364033\ttest: 0.4420915\tbest: 0.4417987 (268)\ttotal: 227ms\tremaining: 560ms\n",
      "288:\tlearn: 0.2358488\ttest: 0.4422328\tbest: 0.4417987 (268)\ttotal: 227ms\tremaining: 560ms\n",
      "289:\tlearn: 0.2352919\ttest: 0.4420719\tbest: 0.4417987 (268)\ttotal: 228ms\tremaining: 559ms\n",
      "290:\tlearn: 0.2351200\ttest: 0.4422574\tbest: 0.4417987 (268)\ttotal: 229ms\tremaining: 558ms\n",
      "291:\tlearn: 0.2347786\ttest: 0.4422921\tbest: 0.4417987 (268)\ttotal: 230ms\tremaining: 558ms\n",
      "292:\tlearn: 0.2344007\ttest: 0.4424071\tbest: 0.4417987 (268)\ttotal: 231ms\tremaining: 557ms\n",
      "293:\tlearn: 0.2338595\ttest: 0.4423986\tbest: 0.4417987 (268)\ttotal: 232ms\tremaining: 556ms\n",
      "294:\tlearn: 0.2335341\ttest: 0.4424465\tbest: 0.4417987 (268)\ttotal: 232ms\tremaining: 555ms\n",
      "295:\tlearn: 0.2332254\ttest: 0.4424925\tbest: 0.4417987 (268)\ttotal: 233ms\tremaining: 555ms\n",
      "296:\tlearn: 0.2326704\ttest: 0.4424683\tbest: 0.4417987 (268)\ttotal: 234ms\tremaining: 555ms\n",
      "297:\tlearn: 0.2320943\ttest: 0.4423316\tbest: 0.4417987 (268)\ttotal: 235ms\tremaining: 554ms\n",
      "298:\tlearn: 0.2319601\ttest: 0.4424401\tbest: 0.4417987 (268)\ttotal: 236ms\tremaining: 553ms\n",
      "299:\tlearn: 0.2313153\ttest: 0.4425757\tbest: 0.4417987 (268)\ttotal: 237ms\tremaining: 552ms\n",
      "300:\tlearn: 0.2302982\ttest: 0.4423319\tbest: 0.4417987 (268)\ttotal: 237ms\tremaining: 551ms\n",
      "301:\tlearn: 0.2296245\ttest: 0.4422001\tbest: 0.4417987 (268)\ttotal: 238ms\tremaining: 550ms\n",
      "302:\tlearn: 0.2290409\ttest: 0.4422754\tbest: 0.4417987 (268)\ttotal: 239ms\tremaining: 549ms\n",
      "303:\tlearn: 0.2286985\ttest: 0.4425314\tbest: 0.4417987 (268)\ttotal: 240ms\tremaining: 548ms\n",
      "304:\tlearn: 0.2281151\ttest: 0.4428806\tbest: 0.4417987 (268)\ttotal: 240ms\tremaining: 548ms\n",
      "305:\tlearn: 0.2277746\ttest: 0.4432121\tbest: 0.4417987 (268)\ttotal: 241ms\tremaining: 547ms\n",
      "306:\tlearn: 0.2271718\ttest: 0.4429424\tbest: 0.4417987 (268)\ttotal: 242ms\tremaining: 546ms\n",
      "307:\tlearn: 0.2265485\ttest: 0.4427776\tbest: 0.4417987 (268)\ttotal: 243ms\tremaining: 545ms\n",
      "308:\tlearn: 0.2257737\ttest: 0.4434603\tbest: 0.4417987 (268)\ttotal: 243ms\tremaining: 544ms\n",
      "309:\tlearn: 0.2257254\ttest: 0.4434859\tbest: 0.4417987 (268)\ttotal: 244ms\tremaining: 544ms\n",
      "310:\tlearn: 0.2253063\ttest: 0.4447594\tbest: 0.4417987 (268)\ttotal: 245ms\tremaining: 543ms\n",
      "311:\tlearn: 0.2251258\ttest: 0.4449024\tbest: 0.4417987 (268)\ttotal: 246ms\tremaining: 542ms\n",
      "312:\tlearn: 0.2250096\ttest: 0.4449594\tbest: 0.4417987 (268)\ttotal: 247ms\tremaining: 541ms\n",
      "313:\tlearn: 0.2245397\ttest: 0.4453229\tbest: 0.4417987 (268)\ttotal: 247ms\tremaining: 540ms\n",
      "314:\tlearn: 0.2241203\ttest: 0.4449892\tbest: 0.4417987 (268)\ttotal: 248ms\tremaining: 539ms\n",
      "315:\tlearn: 0.2233201\ttest: 0.4454732\tbest: 0.4417987 (268)\ttotal: 249ms\tremaining: 539ms\n",
      "316:\tlearn: 0.2232037\ttest: 0.4456725\tbest: 0.4417987 (268)\ttotal: 250ms\tremaining: 538ms\n",
      "317:\tlearn: 0.2225489\ttest: 0.4459454\tbest: 0.4417987 (268)\ttotal: 250ms\tremaining: 537ms\n",
      "318:\tlearn: 0.2218048\ttest: 0.4458239\tbest: 0.4417987 (268)\ttotal: 251ms\tremaining: 536ms\n",
      "319:\tlearn: 0.2209280\ttest: 0.4461365\tbest: 0.4417987 (268)\ttotal: 252ms\tremaining: 535ms\n",
      "320:\tlearn: 0.2205504\ttest: 0.4457934\tbest: 0.4417987 (268)\ttotal: 252ms\tremaining: 534ms\n",
      "321:\tlearn: 0.2202404\ttest: 0.4458556\tbest: 0.4417987 (268)\ttotal: 253ms\tremaining: 533ms\n",
      "322:\tlearn: 0.2197777\ttest: 0.4457459\tbest: 0.4417987 (268)\ttotal: 254ms\tremaining: 532ms\n",
      "323:\tlearn: 0.2195923\ttest: 0.4457335\tbest: 0.4417987 (268)\ttotal: 255ms\tremaining: 531ms\n",
      "324:\tlearn: 0.2194288\ttest: 0.4459025\tbest: 0.4417987 (268)\ttotal: 255ms\tremaining: 530ms\n",
      "325:\tlearn: 0.2180917\ttest: 0.4457358\tbest: 0.4417987 (268)\ttotal: 256ms\tremaining: 529ms\n",
      "326:\tlearn: 0.2176181\ttest: 0.4457691\tbest: 0.4417987 (268)\ttotal: 257ms\tremaining: 528ms\n",
      "327:\tlearn: 0.2174409\ttest: 0.4459082\tbest: 0.4417987 (268)\ttotal: 257ms\tremaining: 527ms\n",
      "328:\tlearn: 0.2171800\ttest: 0.4457451\tbest: 0.4417987 (268)\ttotal: 258ms\tremaining: 526ms\n",
      "329:\tlearn: 0.2167379\ttest: 0.4457931\tbest: 0.4417987 (268)\ttotal: 259ms\tremaining: 526ms\n",
      "330:\tlearn: 0.2156854\ttest: 0.4457750\tbest: 0.4417987 (268)\ttotal: 260ms\tremaining: 525ms\n",
      "331:\tlearn: 0.2153626\ttest: 0.4460176\tbest: 0.4417987 (268)\ttotal: 260ms\tremaining: 524ms\n",
      "332:\tlearn: 0.2152877\ttest: 0.4460685\tbest: 0.4417987 (268)\ttotal: 261ms\tremaining: 523ms\n",
      "333:\tlearn: 0.2147167\ttest: 0.4454003\tbest: 0.4417987 (268)\ttotal: 262ms\tremaining: 522ms\n",
      "334:\tlearn: 0.2145842\ttest: 0.4454785\tbest: 0.4417987 (268)\ttotal: 262ms\tremaining: 521ms\n",
      "335:\tlearn: 0.2142186\ttest: 0.4453555\tbest: 0.4417987 (268)\ttotal: 263ms\tremaining: 520ms\n",
      "336:\tlearn: 0.2134226\ttest: 0.4450943\tbest: 0.4417987 (268)\ttotal: 264ms\tremaining: 519ms\n",
      "337:\tlearn: 0.2132236\ttest: 0.4452837\tbest: 0.4417987 (268)\ttotal: 265ms\tremaining: 518ms\n",
      "338:\tlearn: 0.2124898\ttest: 0.4458056\tbest: 0.4417987 (268)\ttotal: 266ms\tremaining: 518ms\n",
      "339:\tlearn: 0.2123150\ttest: 0.4457160\tbest: 0.4417987 (268)\ttotal: 267ms\tremaining: 518ms\n",
      "340:\tlearn: 0.2122753\ttest: 0.4457210\tbest: 0.4417987 (268)\ttotal: 268ms\tremaining: 517ms\n",
      "341:\tlearn: 0.2116139\ttest: 0.4450682\tbest: 0.4417987 (268)\ttotal: 268ms\tremaining: 516ms\n",
      "342:\tlearn: 0.2115490\ttest: 0.4449914\tbest: 0.4417987 (268)\ttotal: 269ms\tremaining: 516ms\n",
      "343:\tlearn: 0.2112962\ttest: 0.4449699\tbest: 0.4417987 (268)\ttotal: 270ms\tremaining: 515ms\n",
      "344:\tlearn: 0.2108851\ttest: 0.4452109\tbest: 0.4417987 (268)\ttotal: 271ms\tremaining: 515ms\n",
      "345:\tlearn: 0.2103692\ttest: 0.4449510\tbest: 0.4417987 (268)\ttotal: 272ms\tremaining: 514ms\n",
      "346:\tlearn: 0.2095531\ttest: 0.4449986\tbest: 0.4417987 (268)\ttotal: 273ms\tremaining: 513ms\n",
      "347:\tlearn: 0.2086272\ttest: 0.4452109\tbest: 0.4417987 (268)\ttotal: 273ms\tremaining: 512ms\n",
      "348:\tlearn: 0.2082795\ttest: 0.4449323\tbest: 0.4417987 (268)\ttotal: 274ms\tremaining: 511ms\n",
      "349:\tlearn: 0.2077012\ttest: 0.4451496\tbest: 0.4417987 (268)\ttotal: 275ms\tremaining: 510ms\n",
      "350:\tlearn: 0.2075191\ttest: 0.4451049\tbest: 0.4417987 (268)\ttotal: 275ms\tremaining: 509ms\n",
      "351:\tlearn: 0.2066633\ttest: 0.4443963\tbest: 0.4417987 (268)\ttotal: 276ms\tremaining: 509ms\n",
      "352:\tlearn: 0.2058182\ttest: 0.4443759\tbest: 0.4417987 (268)\ttotal: 277ms\tremaining: 508ms\n",
      "353:\tlearn: 0.2051630\ttest: 0.4446460\tbest: 0.4417987 (268)\ttotal: 278ms\tremaining: 507ms\n",
      "354:\tlearn: 0.2046899\ttest: 0.4448467\tbest: 0.4417987 (268)\ttotal: 279ms\tremaining: 506ms\n",
      "355:\tlearn: 0.2041364\ttest: 0.4449186\tbest: 0.4417987 (268)\ttotal: 279ms\tremaining: 505ms\n",
      "356:\tlearn: 0.2036831\ttest: 0.4450816\tbest: 0.4417987 (268)\ttotal: 280ms\tremaining: 504ms\n",
      "357:\tlearn: 0.2031179\ttest: 0.4450756\tbest: 0.4417987 (268)\ttotal: 281ms\tremaining: 503ms\n",
      "358:\tlearn: 0.2025771\ttest: 0.4455784\tbest: 0.4417987 (268)\ttotal: 281ms\tremaining: 502ms\n",
      "359:\tlearn: 0.2024280\ttest: 0.4456013\tbest: 0.4417987 (268)\ttotal: 282ms\tremaining: 501ms\n",
      "360:\tlearn: 0.2023532\ttest: 0.4454783\tbest: 0.4417987 (268)\ttotal: 283ms\tremaining: 501ms\n",
      "361:\tlearn: 0.2020653\ttest: 0.4454295\tbest: 0.4417987 (268)\ttotal: 284ms\tremaining: 500ms\n",
      "362:\tlearn: 0.2016343\ttest: 0.4457511\tbest: 0.4417987 (268)\ttotal: 284ms\tremaining: 499ms\n",
      "363:\tlearn: 0.2009428\ttest: 0.4458664\tbest: 0.4417987 (268)\ttotal: 285ms\tremaining: 498ms\n",
      "364:\tlearn: 0.2000014\ttest: 0.4456156\tbest: 0.4417987 (268)\ttotal: 286ms\tremaining: 497ms\n",
      "365:\tlearn: 0.1990147\ttest: 0.4449758\tbest: 0.4417987 (268)\ttotal: 286ms\tremaining: 496ms\n",
      "366:\tlearn: 0.1985647\ttest: 0.4450559\tbest: 0.4417987 (268)\ttotal: 287ms\tremaining: 495ms\n",
      "367:\tlearn: 0.1979968\ttest: 0.4450211\tbest: 0.4417987 (268)\ttotal: 288ms\tremaining: 494ms\n",
      "368:\tlearn: 0.1977000\ttest: 0.4449328\tbest: 0.4417987 (268)\ttotal: 289ms\tremaining: 494ms\n",
      "369:\tlearn: 0.1972649\ttest: 0.4449084\tbest: 0.4417987 (268)\ttotal: 289ms\tremaining: 493ms\n",
      "370:\tlearn: 0.1966678\ttest: 0.4450596\tbest: 0.4417987 (268)\ttotal: 290ms\tremaining: 492ms\n",
      "371:\tlearn: 0.1960370\ttest: 0.4454024\tbest: 0.4417987 (268)\ttotal: 291ms\tremaining: 491ms\n",
      "372:\tlearn: 0.1955026\ttest: 0.4454890\tbest: 0.4417987 (268)\ttotal: 292ms\tremaining: 490ms\n",
      "373:\tlearn: 0.1953701\ttest: 0.4453828\tbest: 0.4417987 (268)\ttotal: 292ms\tremaining: 489ms\n",
      "374:\tlearn: 0.1949323\ttest: 0.4457280\tbest: 0.4417987 (268)\ttotal: 294ms\tremaining: 489ms\n",
      "375:\tlearn: 0.1944197\ttest: 0.4459060\tbest: 0.4417987 (268)\ttotal: 294ms\tremaining: 488ms\n",
      "376:\tlearn: 0.1938825\ttest: 0.4458733\tbest: 0.4417987 (268)\ttotal: 295ms\tremaining: 488ms\n",
      "377:\tlearn: 0.1938392\ttest: 0.4458356\tbest: 0.4417987 (268)\ttotal: 296ms\tremaining: 487ms\n",
      "378:\tlearn: 0.1937632\ttest: 0.4457187\tbest: 0.4417987 (268)\ttotal: 297ms\tremaining: 486ms\n",
      "379:\tlearn: 0.1934427\ttest: 0.4453528\tbest: 0.4417987 (268)\ttotal: 297ms\tremaining: 485ms\n",
      "380:\tlearn: 0.1925326\ttest: 0.4457366\tbest: 0.4417987 (268)\ttotal: 298ms\tremaining: 484ms\n",
      "381:\tlearn: 0.1920491\ttest: 0.4460369\tbest: 0.4417987 (268)\ttotal: 299ms\tremaining: 484ms\n",
      "382:\tlearn: 0.1915232\ttest: 0.4463178\tbest: 0.4417987 (268)\ttotal: 300ms\tremaining: 483ms\n",
      "383:\tlearn: 0.1909810\ttest: 0.4461395\tbest: 0.4417987 (268)\ttotal: 300ms\tremaining: 482ms\n",
      "384:\tlearn: 0.1905074\ttest: 0.4464140\tbest: 0.4417987 (268)\ttotal: 301ms\tremaining: 481ms\n",
      "385:\tlearn: 0.1898625\ttest: 0.4459962\tbest: 0.4417987 (268)\ttotal: 302ms\tremaining: 480ms\n",
      "386:\tlearn: 0.1896865\ttest: 0.4460229\tbest: 0.4417987 (268)\ttotal: 303ms\tremaining: 479ms\n",
      "387:\tlearn: 0.1896594\ttest: 0.4460812\tbest: 0.4417987 (268)\ttotal: 303ms\tremaining: 478ms\n",
      "388:\tlearn: 0.1893639\ttest: 0.4459222\tbest: 0.4417987 (268)\ttotal: 304ms\tremaining: 477ms\n",
      "389:\tlearn: 0.1888053\ttest: 0.4460219\tbest: 0.4417987 (268)\ttotal: 305ms\tremaining: 476ms\n",
      "390:\tlearn: 0.1885808\ttest: 0.4460077\tbest: 0.4417987 (268)\ttotal: 305ms\tremaining: 476ms\n",
      "391:\tlearn: 0.1878868\ttest: 0.4462024\tbest: 0.4417987 (268)\ttotal: 306ms\tremaining: 475ms\n",
      "392:\tlearn: 0.1874651\ttest: 0.4456798\tbest: 0.4417987 (268)\ttotal: 307ms\tremaining: 474ms\n",
      "393:\tlearn: 0.1871729\ttest: 0.4454557\tbest: 0.4417987 (268)\ttotal: 308ms\tremaining: 473ms\n",
      "394:\tlearn: 0.1866055\ttest: 0.4450655\tbest: 0.4417987 (268)\ttotal: 308ms\tremaining: 472ms\n",
      "395:\tlearn: 0.1860608\ttest: 0.4451245\tbest: 0.4417987 (268)\ttotal: 309ms\tremaining: 472ms\n",
      "396:\tlearn: 0.1853551\ttest: 0.4451734\tbest: 0.4417987 (268)\ttotal: 310ms\tremaining: 471ms\n",
      "397:\tlearn: 0.1848821\ttest: 0.4456194\tbest: 0.4417987 (268)\ttotal: 311ms\tremaining: 470ms\n",
      "398:\tlearn: 0.1840418\ttest: 0.4455138\tbest: 0.4417987 (268)\ttotal: 312ms\tremaining: 469ms\n",
      "399:\tlearn: 0.1838585\ttest: 0.4456888\tbest: 0.4417987 (268)\ttotal: 312ms\tremaining: 469ms\n",
      "400:\tlearn: 0.1835289\ttest: 0.4458359\tbest: 0.4417987 (268)\ttotal: 313ms\tremaining: 468ms\n",
      "401:\tlearn: 0.1827885\ttest: 0.4463275\tbest: 0.4417987 (268)\ttotal: 314ms\tremaining: 467ms\n",
      "402:\tlearn: 0.1823296\ttest: 0.4465140\tbest: 0.4417987 (268)\ttotal: 315ms\tremaining: 466ms\n",
      "403:\tlearn: 0.1820745\ttest: 0.4465299\tbest: 0.4417987 (268)\ttotal: 315ms\tremaining: 465ms\n",
      "404:\tlearn: 0.1817012\ttest: 0.4461118\tbest: 0.4417987 (268)\ttotal: 316ms\tremaining: 465ms\n",
      "405:\tlearn: 0.1813937\ttest: 0.4460997\tbest: 0.4417987 (268)\ttotal: 317ms\tremaining: 464ms\n",
      "406:\tlearn: 0.1809161\ttest: 0.4459292\tbest: 0.4417987 (268)\ttotal: 318ms\tremaining: 463ms\n",
      "407:\tlearn: 0.1800774\ttest: 0.4460638\tbest: 0.4417987 (268)\ttotal: 318ms\tremaining: 462ms\n",
      "408:\tlearn: 0.1794755\ttest: 0.4456574\tbest: 0.4417987 (268)\ttotal: 319ms\tremaining: 461ms\n",
      "409:\tlearn: 0.1791545\ttest: 0.4455765\tbest: 0.4417987 (268)\ttotal: 320ms\tremaining: 460ms\n",
      "410:\tlearn: 0.1789879\ttest: 0.4453934\tbest: 0.4417987 (268)\ttotal: 321ms\tremaining: 459ms\n",
      "411:\tlearn: 0.1786249\ttest: 0.4454977\tbest: 0.4417987 (268)\ttotal: 321ms\tremaining: 459ms\n",
      "412:\tlearn: 0.1780745\ttest: 0.4457534\tbest: 0.4417987 (268)\ttotal: 322ms\tremaining: 458ms\n",
      "413:\tlearn: 0.1778731\ttest: 0.4456810\tbest: 0.4417987 (268)\ttotal: 323ms\tremaining: 457ms\n",
      "414:\tlearn: 0.1772852\ttest: 0.4458134\tbest: 0.4417987 (268)\ttotal: 324ms\tremaining: 456ms\n",
      "415:\tlearn: 0.1766445\ttest: 0.4461320\tbest: 0.4417987 (268)\ttotal: 324ms\tremaining: 455ms\n",
      "416:\tlearn: 0.1764218\ttest: 0.4460000\tbest: 0.4417987 (268)\ttotal: 325ms\tremaining: 455ms\n",
      "417:\tlearn: 0.1763083\ttest: 0.4459398\tbest: 0.4417987 (268)\ttotal: 326ms\tremaining: 454ms\n",
      "418:\tlearn: 0.1762661\ttest: 0.4458376\tbest: 0.4417987 (268)\ttotal: 327ms\tremaining: 453ms\n",
      "419:\tlearn: 0.1757666\ttest: 0.4464881\tbest: 0.4417987 (268)\ttotal: 327ms\tremaining: 452ms\n",
      "420:\tlearn: 0.1751257\ttest: 0.4467402\tbest: 0.4417987 (268)\ttotal: 328ms\tremaining: 451ms\n",
      "421:\tlearn: 0.1749349\ttest: 0.4467327\tbest: 0.4417987 (268)\ttotal: 329ms\tremaining: 450ms\n",
      "422:\tlearn: 0.1742226\ttest: 0.4471669\tbest: 0.4417987 (268)\ttotal: 330ms\tremaining: 450ms\n",
      "423:\tlearn: 0.1737421\ttest: 0.4471222\tbest: 0.4417987 (268)\ttotal: 330ms\tremaining: 449ms\n",
      "424:\tlearn: 0.1735808\ttest: 0.4469254\tbest: 0.4417987 (268)\ttotal: 331ms\tremaining: 448ms\n",
      "425:\tlearn: 0.1735274\ttest: 0.4469383\tbest: 0.4417987 (268)\ttotal: 332ms\tremaining: 447ms\n",
      "426:\tlearn: 0.1727725\ttest: 0.4472499\tbest: 0.4417987 (268)\ttotal: 332ms\tremaining: 446ms\n",
      "427:\tlearn: 0.1723810\ttest: 0.4470767\tbest: 0.4417987 (268)\ttotal: 333ms\tremaining: 445ms\n",
      "428:\tlearn: 0.1720076\ttest: 0.4473696\tbest: 0.4417987 (268)\ttotal: 334ms\tremaining: 444ms\n",
      "429:\tlearn: 0.1716537\ttest: 0.4472557\tbest: 0.4417987 (268)\ttotal: 334ms\tremaining: 443ms\n",
      "430:\tlearn: 0.1712462\ttest: 0.4477018\tbest: 0.4417987 (268)\ttotal: 335ms\tremaining: 442ms\n",
      "431:\tlearn: 0.1709471\ttest: 0.4476755\tbest: 0.4417987 (268)\ttotal: 336ms\tremaining: 441ms\n",
      "432:\tlearn: 0.1707638\ttest: 0.4478637\tbest: 0.4417987 (268)\ttotal: 336ms\tremaining: 440ms\n",
      "433:\tlearn: 0.1704453\ttest: 0.4478695\tbest: 0.4417987 (268)\ttotal: 337ms\tremaining: 440ms\n",
      "434:\tlearn: 0.1700361\ttest: 0.4478852\tbest: 0.4417987 (268)\ttotal: 338ms\tremaining: 439ms\n",
      "435:\tlearn: 0.1697151\ttest: 0.4482759\tbest: 0.4417987 (268)\ttotal: 339ms\tremaining: 438ms\n",
      "436:\tlearn: 0.1691716\ttest: 0.4481735\tbest: 0.4417987 (268)\ttotal: 339ms\tremaining: 437ms\n",
      "437:\tlearn: 0.1685734\ttest: 0.4486618\tbest: 0.4417987 (268)\ttotal: 340ms\tremaining: 437ms\n",
      "438:\tlearn: 0.1681915\ttest: 0.4490909\tbest: 0.4417987 (268)\ttotal: 341ms\tremaining: 436ms\n",
      "439:\tlearn: 0.1678412\ttest: 0.4492553\tbest: 0.4417987 (268)\ttotal: 342ms\tremaining: 435ms\n",
      "440:\tlearn: 0.1675078\ttest: 0.4496690\tbest: 0.4417987 (268)\ttotal: 342ms\tremaining: 434ms\n",
      "441:\tlearn: 0.1668368\ttest: 0.4498978\tbest: 0.4417987 (268)\ttotal: 343ms\tremaining: 433ms\n",
      "442:\tlearn: 0.1666338\ttest: 0.4497827\tbest: 0.4417987 (268)\ttotal: 344ms\tremaining: 432ms\n",
      "443:\tlearn: 0.1663276\ttest: 0.4496668\tbest: 0.4417987 (268)\ttotal: 345ms\tremaining: 432ms\n",
      "444:\tlearn: 0.1659174\ttest: 0.4493201\tbest: 0.4417987 (268)\ttotal: 345ms\tremaining: 431ms\n",
      "445:\tlearn: 0.1658676\ttest: 0.4493208\tbest: 0.4417987 (268)\ttotal: 346ms\tremaining: 430ms\n",
      "446:\tlearn: 0.1656969\ttest: 0.4493894\tbest: 0.4417987 (268)\ttotal: 347ms\tremaining: 429ms\n",
      "447:\tlearn: 0.1654068\ttest: 0.4494845\tbest: 0.4417987 (268)\ttotal: 347ms\tremaining: 428ms\n",
      "448:\tlearn: 0.1648864\ttest: 0.4495756\tbest: 0.4417987 (268)\ttotal: 348ms\tremaining: 427ms\n",
      "449:\tlearn: 0.1645869\ttest: 0.4494201\tbest: 0.4417987 (268)\ttotal: 349ms\tremaining: 426ms\n",
      "450:\tlearn: 0.1644704\ttest: 0.4496072\tbest: 0.4417987 (268)\ttotal: 350ms\tremaining: 426ms\n",
      "451:\tlearn: 0.1642642\ttest: 0.4498758\tbest: 0.4417987 (268)\ttotal: 350ms\tremaining: 425ms\n",
      "452:\tlearn: 0.1640308\ttest: 0.4499021\tbest: 0.4417987 (268)\ttotal: 351ms\tremaining: 424ms\n",
      "453:\tlearn: 0.1636952\ttest: 0.4501873\tbest: 0.4417987 (268)\ttotal: 352ms\tremaining: 423ms\n",
      "454:\tlearn: 0.1634532\ttest: 0.4499270\tbest: 0.4417987 (268)\ttotal: 352ms\tremaining: 422ms\n",
      "455:\tlearn: 0.1631408\ttest: 0.4499214\tbest: 0.4417987 (268)\ttotal: 353ms\tremaining: 421ms\n",
      "456:\tlearn: 0.1629184\ttest: 0.4500330\tbest: 0.4417987 (268)\ttotal: 354ms\tremaining: 420ms\n",
      "457:\tlearn: 0.1625563\ttest: 0.4502585\tbest: 0.4417987 (268)\ttotal: 355ms\tremaining: 420ms\n",
      "458:\tlearn: 0.1622266\ttest: 0.4502470\tbest: 0.4417987 (268)\ttotal: 355ms\tremaining: 419ms\n",
      "459:\tlearn: 0.1620745\ttest: 0.4503211\tbest: 0.4417987 (268)\ttotal: 356ms\tremaining: 418ms\n",
      "460:\tlearn: 0.1614811\ttest: 0.4505995\tbest: 0.4417987 (268)\ttotal: 357ms\tremaining: 417ms\n",
      "461:\tlearn: 0.1609932\ttest: 0.4507026\tbest: 0.4417987 (268)\ttotal: 357ms\tremaining: 416ms\n",
      "462:\tlearn: 0.1607233\ttest: 0.4503623\tbest: 0.4417987 (268)\ttotal: 358ms\tremaining: 415ms\n",
      "463:\tlearn: 0.1603825\ttest: 0.4502098\tbest: 0.4417987 (268)\ttotal: 359ms\tremaining: 414ms\n",
      "464:\tlearn: 0.1597819\ttest: 0.4500448\tbest: 0.4417987 (268)\ttotal: 359ms\tremaining: 414ms\n",
      "465:\tlearn: 0.1596170\ttest: 0.4500828\tbest: 0.4417987 (268)\ttotal: 360ms\tremaining: 413ms\n",
      "466:\tlearn: 0.1595176\ttest: 0.4500356\tbest: 0.4417987 (268)\ttotal: 361ms\tremaining: 412ms\n",
      "467:\tlearn: 0.1588790\ttest: 0.4498858\tbest: 0.4417987 (268)\ttotal: 362ms\tremaining: 411ms\n",
      "468:\tlearn: 0.1584628\ttest: 0.4493445\tbest: 0.4417987 (268)\ttotal: 362ms\tremaining: 410ms\n",
      "469:\tlearn: 0.1582877\ttest: 0.4491053\tbest: 0.4417987 (268)\ttotal: 364ms\tremaining: 410ms\n",
      "470:\tlearn: 0.1579482\ttest: 0.4486062\tbest: 0.4417987 (268)\ttotal: 365ms\tremaining: 409ms\n",
      "471:\tlearn: 0.1574938\ttest: 0.4489132\tbest: 0.4417987 (268)\ttotal: 366ms\tremaining: 409ms\n",
      "472:\tlearn: 0.1572527\ttest: 0.4492594\tbest: 0.4417987 (268)\ttotal: 367ms\tremaining: 408ms\n",
      "473:\tlearn: 0.1563816\ttest: 0.4496487\tbest: 0.4417987 (268)\ttotal: 368ms\tremaining: 408ms\n",
      "474:\tlearn: 0.1560967\ttest: 0.4495838\tbest: 0.4417987 (268)\ttotal: 369ms\tremaining: 407ms\n",
      "475:\tlearn: 0.1554736\ttest: 0.4501985\tbest: 0.4417987 (268)\ttotal: 370ms\tremaining: 407ms\n",
      "476:\tlearn: 0.1552940\ttest: 0.4501236\tbest: 0.4417987 (268)\ttotal: 370ms\tremaining: 406ms\n",
      "477:\tlearn: 0.1550909\ttest: 0.4502605\tbest: 0.4417987 (268)\ttotal: 372ms\tremaining: 406ms\n",
      "478:\tlearn: 0.1549365\ttest: 0.4503065\tbest: 0.4417987 (268)\ttotal: 373ms\tremaining: 405ms\n",
      "479:\tlearn: 0.1546310\ttest: 0.4506612\tbest: 0.4417987 (268)\ttotal: 374ms\tremaining: 405ms\n",
      "480:\tlearn: 0.1541642\ttest: 0.4511912\tbest: 0.4417987 (268)\ttotal: 376ms\tremaining: 405ms\n",
      "481:\tlearn: 0.1540435\ttest: 0.4512759\tbest: 0.4417987 (268)\ttotal: 376ms\tremaining: 404ms\n",
      "482:\tlearn: 0.1536767\ttest: 0.4515635\tbest: 0.4417987 (268)\ttotal: 377ms\tremaining: 404ms\n",
      "483:\tlearn: 0.1535189\ttest: 0.4515298\tbest: 0.4417987 (268)\ttotal: 378ms\tremaining: 403ms\n",
      "484:\tlearn: 0.1530405\ttest: 0.4513090\tbest: 0.4417987 (268)\ttotal: 379ms\tremaining: 402ms\n",
      "485:\tlearn: 0.1529148\ttest: 0.4513766\tbest: 0.4417987 (268)\ttotal: 380ms\tremaining: 402ms\n",
      "486:\tlearn: 0.1525922\ttest: 0.4510731\tbest: 0.4417987 (268)\ttotal: 381ms\tremaining: 401ms\n",
      "487:\tlearn: 0.1522938\ttest: 0.4509580\tbest: 0.4417987 (268)\ttotal: 381ms\tremaining: 400ms\n",
      "488:\tlearn: 0.1522060\ttest: 0.4509171\tbest: 0.4417987 (268)\ttotal: 382ms\tremaining: 399ms\n",
      "489:\tlearn: 0.1520719\ttest: 0.4513052\tbest: 0.4417987 (268)\ttotal: 383ms\tremaining: 398ms\n",
      "490:\tlearn: 0.1516028\ttest: 0.4513103\tbest: 0.4417987 (268)\ttotal: 383ms\tremaining: 397ms\n",
      "491:\tlearn: 0.1515283\ttest: 0.4513278\tbest: 0.4417987 (268)\ttotal: 384ms\tremaining: 397ms\n",
      "492:\tlearn: 0.1508334\ttest: 0.4514481\tbest: 0.4417987 (268)\ttotal: 385ms\tremaining: 396ms\n",
      "493:\tlearn: 0.1506142\ttest: 0.4517447\tbest: 0.4417987 (268)\ttotal: 386ms\tremaining: 395ms\n",
      "494:\tlearn: 0.1500210\ttest: 0.4517043\tbest: 0.4417987 (268)\ttotal: 386ms\tremaining: 394ms\n",
      "495:\tlearn: 0.1498616\ttest: 0.4517674\tbest: 0.4417987 (268)\ttotal: 387ms\tremaining: 393ms\n",
      "496:\tlearn: 0.1496200\ttest: 0.4520154\tbest: 0.4417987 (268)\ttotal: 388ms\tremaining: 393ms\n",
      "497:\tlearn: 0.1491537\ttest: 0.4521023\tbest: 0.4417987 (268)\ttotal: 390ms\tremaining: 393ms\n",
      "498:\tlearn: 0.1489490\ttest: 0.4520754\tbest: 0.4417987 (268)\ttotal: 391ms\tremaining: 393ms\n",
      "499:\tlearn: 0.1486885\ttest: 0.4522592\tbest: 0.4417987 (268)\ttotal: 392ms\tremaining: 392ms\n",
      "500:\tlearn: 0.1482046\ttest: 0.4525505\tbest: 0.4417987 (268)\ttotal: 393ms\tremaining: 391ms\n",
      "501:\tlearn: 0.1477828\ttest: 0.4529682\tbest: 0.4417987 (268)\ttotal: 394ms\tremaining: 391ms\n",
      "502:\tlearn: 0.1471463\ttest: 0.4535319\tbest: 0.4417987 (268)\ttotal: 394ms\tremaining: 390ms\n",
      "503:\tlearn: 0.1469707\ttest: 0.4535576\tbest: 0.4417987 (268)\ttotal: 395ms\tremaining: 389ms\n",
      "504:\tlearn: 0.1465818\ttest: 0.4537404\tbest: 0.4417987 (268)\ttotal: 396ms\tremaining: 388ms\n",
      "505:\tlearn: 0.1461797\ttest: 0.4542075\tbest: 0.4417987 (268)\ttotal: 397ms\tremaining: 387ms\n",
      "506:\tlearn: 0.1458121\ttest: 0.4547380\tbest: 0.4417987 (268)\ttotal: 397ms\tremaining: 386ms\n",
      "507:\tlearn: 0.1454526\ttest: 0.4549942\tbest: 0.4417987 (268)\ttotal: 398ms\tremaining: 386ms\n",
      "508:\tlearn: 0.1448317\ttest: 0.4548509\tbest: 0.4417987 (268)\ttotal: 399ms\tremaining: 385ms\n",
      "509:\tlearn: 0.1446699\ttest: 0.4546690\tbest: 0.4417987 (268)\ttotal: 400ms\tremaining: 384ms\n",
      "510:\tlearn: 0.1444895\ttest: 0.4547440\tbest: 0.4417987 (268)\ttotal: 401ms\tremaining: 383ms\n",
      "511:\tlearn: 0.1442393\ttest: 0.4544917\tbest: 0.4417987 (268)\ttotal: 401ms\tremaining: 383ms\n",
      "512:\tlearn: 0.1435719\ttest: 0.4548466\tbest: 0.4417987 (268)\ttotal: 402ms\tremaining: 382ms\n",
      "513:\tlearn: 0.1434269\ttest: 0.4547612\tbest: 0.4417987 (268)\ttotal: 403ms\tremaining: 381ms\n",
      "514:\tlearn: 0.1428984\ttest: 0.4546740\tbest: 0.4417987 (268)\ttotal: 404ms\tremaining: 380ms\n",
      "515:\tlearn: 0.1427294\ttest: 0.4548436\tbest: 0.4417987 (268)\ttotal: 405ms\tremaining: 380ms\n",
      "516:\tlearn: 0.1425561\ttest: 0.4548407\tbest: 0.4417987 (268)\ttotal: 406ms\tremaining: 379ms\n",
      "517:\tlearn: 0.1425195\ttest: 0.4547191\tbest: 0.4417987 (268)\ttotal: 406ms\tremaining: 378ms\n",
      "518:\tlearn: 0.1424853\ttest: 0.4546221\tbest: 0.4417987 (268)\ttotal: 407ms\tremaining: 377ms\n",
      "519:\tlearn: 0.1421838\ttest: 0.4546788\tbest: 0.4417987 (268)\ttotal: 409ms\tremaining: 378ms\n",
      "520:\tlearn: 0.1419731\ttest: 0.4547886\tbest: 0.4417987 (268)\ttotal: 410ms\tremaining: 377ms\n",
      "521:\tlearn: 0.1417311\ttest: 0.4547178\tbest: 0.4417987 (268)\ttotal: 412ms\tremaining: 377ms\n",
      "522:\tlearn: 0.1413274\ttest: 0.4541677\tbest: 0.4417987 (268)\ttotal: 413ms\tremaining: 376ms\n",
      "523:\tlearn: 0.1410785\ttest: 0.4537803\tbest: 0.4417987 (268)\ttotal: 414ms\tremaining: 376ms\n",
      "524:\tlearn: 0.1409156\ttest: 0.4535138\tbest: 0.4417987 (268)\ttotal: 414ms\tremaining: 375ms\n",
      "525:\tlearn: 0.1405541\ttest: 0.4536497\tbest: 0.4417987 (268)\ttotal: 415ms\tremaining: 374ms\n",
      "526:\tlearn: 0.1403393\ttest: 0.4533969\tbest: 0.4417987 (268)\ttotal: 416ms\tremaining: 373ms\n",
      "527:\tlearn: 0.1400843\ttest: 0.4535421\tbest: 0.4417987 (268)\ttotal: 417ms\tremaining: 373ms\n",
      "528:\tlearn: 0.1399474\ttest: 0.4535129\tbest: 0.4417987 (268)\ttotal: 418ms\tremaining: 372ms\n",
      "529:\tlearn: 0.1396243\ttest: 0.4537328\tbest: 0.4417987 (268)\ttotal: 419ms\tremaining: 371ms\n",
      "530:\tlearn: 0.1392006\ttest: 0.4532573\tbest: 0.4417987 (268)\ttotal: 419ms\tremaining: 370ms\n",
      "531:\tlearn: 0.1389615\ttest: 0.4537173\tbest: 0.4417987 (268)\ttotal: 420ms\tremaining: 370ms\n",
      "532:\tlearn: 0.1385355\ttest: 0.4539734\tbest: 0.4417987 (268)\ttotal: 421ms\tremaining: 369ms\n",
      "533:\tlearn: 0.1381929\ttest: 0.4540838\tbest: 0.4417987 (268)\ttotal: 422ms\tremaining: 368ms\n",
      "534:\tlearn: 0.1381114\ttest: 0.4542050\tbest: 0.4417987 (268)\ttotal: 423ms\tremaining: 368ms\n",
      "535:\tlearn: 0.1377951\ttest: 0.4544090\tbest: 0.4417987 (268)\ttotal: 424ms\tremaining: 367ms\n",
      "536:\tlearn: 0.1373379\ttest: 0.4545467\tbest: 0.4417987 (268)\ttotal: 424ms\tremaining: 366ms\n",
      "537:\tlearn: 0.1370787\ttest: 0.4544258\tbest: 0.4417987 (268)\ttotal: 425ms\tremaining: 365ms\n",
      "538:\tlearn: 0.1366568\ttest: 0.4547876\tbest: 0.4417987 (268)\ttotal: 426ms\tremaining: 365ms\n",
      "539:\tlearn: 0.1366148\ttest: 0.4546972\tbest: 0.4417987 (268)\ttotal: 427ms\tremaining: 364ms\n",
      "540:\tlearn: 0.1361679\ttest: 0.4546219\tbest: 0.4417987 (268)\ttotal: 428ms\tremaining: 363ms\n",
      "541:\tlearn: 0.1360365\ttest: 0.4546389\tbest: 0.4417987 (268)\ttotal: 428ms\tremaining: 362ms\n",
      "542:\tlearn: 0.1358652\ttest: 0.4548738\tbest: 0.4417987 (268)\ttotal: 429ms\tremaining: 361ms\n",
      "543:\tlearn: 0.1355421\ttest: 0.4549965\tbest: 0.4417987 (268)\ttotal: 430ms\tremaining: 360ms\n",
      "544:\tlearn: 0.1354194\ttest: 0.4549624\tbest: 0.4417987 (268)\ttotal: 431ms\tremaining: 359ms\n",
      "545:\tlearn: 0.1352669\ttest: 0.4549348\tbest: 0.4417987 (268)\ttotal: 431ms\tremaining: 359ms\n",
      "546:\tlearn: 0.1350924\ttest: 0.4553782\tbest: 0.4417987 (268)\ttotal: 432ms\tremaining: 358ms\n",
      "547:\tlearn: 0.1345908\ttest: 0.4551147\tbest: 0.4417987 (268)\ttotal: 433ms\tremaining: 357ms\n",
      "548:\tlearn: 0.1341249\ttest: 0.4550810\tbest: 0.4417987 (268)\ttotal: 433ms\tremaining: 356ms\n",
      "549:\tlearn: 0.1335784\ttest: 0.4552388\tbest: 0.4417987 (268)\ttotal: 434ms\tremaining: 355ms\n",
      "550:\tlearn: 0.1328917\ttest: 0.4555684\tbest: 0.4417987 (268)\ttotal: 435ms\tremaining: 354ms\n",
      "551:\tlearn: 0.1326478\ttest: 0.4555012\tbest: 0.4417987 (268)\ttotal: 436ms\tremaining: 354ms\n",
      "552:\tlearn: 0.1325224\ttest: 0.4556704\tbest: 0.4417987 (268)\ttotal: 436ms\tremaining: 353ms\n",
      "553:\tlearn: 0.1323960\ttest: 0.4558688\tbest: 0.4417987 (268)\ttotal: 437ms\tremaining: 352ms\n",
      "554:\tlearn: 0.1317022\ttest: 0.4565712\tbest: 0.4417987 (268)\ttotal: 438ms\tremaining: 351ms\n",
      "555:\tlearn: 0.1315497\ttest: 0.4568858\tbest: 0.4417987 (268)\ttotal: 439ms\tremaining: 350ms\n",
      "556:\tlearn: 0.1313107\ttest: 0.4568676\tbest: 0.4417987 (268)\ttotal: 439ms\tremaining: 349ms\n",
      "557:\tlearn: 0.1311375\ttest: 0.4571600\tbest: 0.4417987 (268)\ttotal: 440ms\tremaining: 348ms\n",
      "558:\tlearn: 0.1308601\ttest: 0.4572407\tbest: 0.4417987 (268)\ttotal: 441ms\tremaining: 348ms\n",
      "559:\tlearn: 0.1307059\ttest: 0.4572685\tbest: 0.4417987 (268)\ttotal: 441ms\tremaining: 347ms\n",
      "560:\tlearn: 0.1304218\ttest: 0.4573244\tbest: 0.4417987 (268)\ttotal: 442ms\tremaining: 346ms\n",
      "561:\tlearn: 0.1302945\ttest: 0.4573001\tbest: 0.4417987 (268)\ttotal: 443ms\tremaining: 345ms\n",
      "562:\tlearn: 0.1300324\ttest: 0.4572148\tbest: 0.4417987 (268)\ttotal: 444ms\tremaining: 344ms\n",
      "563:\tlearn: 0.1296131\ttest: 0.4575485\tbest: 0.4417987 (268)\ttotal: 444ms\tremaining: 343ms\n",
      "564:\tlearn: 0.1292363\ttest: 0.4577331\tbest: 0.4417987 (268)\ttotal: 445ms\tremaining: 343ms\n",
      "565:\tlearn: 0.1289467\ttest: 0.4582120\tbest: 0.4417987 (268)\ttotal: 446ms\tremaining: 342ms\n",
      "566:\tlearn: 0.1288610\ttest: 0.4581485\tbest: 0.4417987 (268)\ttotal: 446ms\tremaining: 341ms\n",
      "567:\tlearn: 0.1281395\ttest: 0.4583674\tbest: 0.4417987 (268)\ttotal: 447ms\tremaining: 340ms\n",
      "568:\tlearn: 0.1280305\ttest: 0.4584272\tbest: 0.4417987 (268)\ttotal: 448ms\tremaining: 339ms\n",
      "569:\tlearn: 0.1276968\ttest: 0.4589328\tbest: 0.4417987 (268)\ttotal: 449ms\tremaining: 338ms\n",
      "570:\tlearn: 0.1275184\ttest: 0.4588589\tbest: 0.4417987 (268)\ttotal: 449ms\tremaining: 338ms\n",
      "571:\tlearn: 0.1272575\ttest: 0.4589867\tbest: 0.4417987 (268)\ttotal: 450ms\tremaining: 337ms\n",
      "572:\tlearn: 0.1271560\ttest: 0.4590915\tbest: 0.4417987 (268)\ttotal: 451ms\tremaining: 336ms\n",
      "573:\tlearn: 0.1267635\ttest: 0.4594302\tbest: 0.4417987 (268)\ttotal: 452ms\tremaining: 335ms\n",
      "574:\tlearn: 0.1266095\ttest: 0.4595524\tbest: 0.4417987 (268)\ttotal: 452ms\tremaining: 334ms\n",
      "575:\tlearn: 0.1265656\ttest: 0.4595266\tbest: 0.4417987 (268)\ttotal: 453ms\tremaining: 333ms\n",
      "576:\tlearn: 0.1263500\ttest: 0.4593064\tbest: 0.4417987 (268)\ttotal: 454ms\tremaining: 333ms\n",
      "577:\tlearn: 0.1260835\ttest: 0.4593739\tbest: 0.4417987 (268)\ttotal: 454ms\tremaining: 332ms\n",
      "578:\tlearn: 0.1258291\ttest: 0.4593294\tbest: 0.4417987 (268)\ttotal: 455ms\tremaining: 331ms\n",
      "579:\tlearn: 0.1255336\ttest: 0.4596485\tbest: 0.4417987 (268)\ttotal: 456ms\tremaining: 330ms\n",
      "580:\tlearn: 0.1253295\ttest: 0.4596969\tbest: 0.4417987 (268)\ttotal: 456ms\tremaining: 329ms\n",
      "581:\tlearn: 0.1248955\ttest: 0.4597662\tbest: 0.4417987 (268)\ttotal: 457ms\tremaining: 329ms\n",
      "582:\tlearn: 0.1247010\ttest: 0.4596313\tbest: 0.4417987 (268)\ttotal: 458ms\tremaining: 328ms\n",
      "583:\tlearn: 0.1244493\ttest: 0.4597044\tbest: 0.4417987 (268)\ttotal: 459ms\tremaining: 327ms\n",
      "584:\tlearn: 0.1242429\ttest: 0.4596553\tbest: 0.4417987 (268)\ttotal: 460ms\tremaining: 326ms\n",
      "585:\tlearn: 0.1238419\ttest: 0.4596425\tbest: 0.4417987 (268)\ttotal: 461ms\tremaining: 326ms\n",
      "586:\tlearn: 0.1236369\ttest: 0.4596058\tbest: 0.4417987 (268)\ttotal: 462ms\tremaining: 325ms\n",
      "587:\tlearn: 0.1234137\ttest: 0.4596658\tbest: 0.4417987 (268)\ttotal: 462ms\tremaining: 324ms\n",
      "588:\tlearn: 0.1232190\ttest: 0.4599828\tbest: 0.4417987 (268)\ttotal: 463ms\tremaining: 323ms\n",
      "589:\tlearn: 0.1226389\ttest: 0.4602588\tbest: 0.4417987 (268)\ttotal: 464ms\tremaining: 322ms\n",
      "590:\tlearn: 0.1223237\ttest: 0.4601666\tbest: 0.4417987 (268)\ttotal: 464ms\tremaining: 321ms\n",
      "591:\tlearn: 0.1221957\ttest: 0.4600289\tbest: 0.4417987 (268)\ttotal: 465ms\tremaining: 321ms\n",
      "592:\tlearn: 0.1218621\ttest: 0.4600437\tbest: 0.4417987 (268)\ttotal: 466ms\tremaining: 320ms\n",
      "593:\tlearn: 0.1217102\ttest: 0.4600236\tbest: 0.4417987 (268)\ttotal: 467ms\tremaining: 319ms\n",
      "594:\tlearn: 0.1214203\ttest: 0.4600339\tbest: 0.4417987 (268)\ttotal: 468ms\tremaining: 318ms\n",
      "595:\tlearn: 0.1211045\ttest: 0.4599608\tbest: 0.4417987 (268)\ttotal: 468ms\tremaining: 317ms\n",
      "596:\tlearn: 0.1209203\ttest: 0.4597160\tbest: 0.4417987 (268)\ttotal: 469ms\tremaining: 317ms\n",
      "597:\tlearn: 0.1204250\ttest: 0.4600618\tbest: 0.4417987 (268)\ttotal: 470ms\tremaining: 316ms\n",
      "598:\tlearn: 0.1203280\ttest: 0.4600015\tbest: 0.4417987 (268)\ttotal: 471ms\tremaining: 315ms\n",
      "599:\tlearn: 0.1197747\ttest: 0.4602593\tbest: 0.4417987 (268)\ttotal: 471ms\tremaining: 314ms\n",
      "600:\tlearn: 0.1195534\ttest: 0.4599761\tbest: 0.4417987 (268)\ttotal: 472ms\tremaining: 313ms\n",
      "601:\tlearn: 0.1193421\ttest: 0.4603672\tbest: 0.4417987 (268)\ttotal: 473ms\tremaining: 312ms\n",
      "602:\tlearn: 0.1191707\ttest: 0.4605400\tbest: 0.4417987 (268)\ttotal: 473ms\tremaining: 312ms\n",
      "603:\tlearn: 0.1190308\ttest: 0.4607770\tbest: 0.4417987 (268)\ttotal: 474ms\tremaining: 311ms\n",
      "604:\tlearn: 0.1188461\ttest: 0.4606459\tbest: 0.4417987 (268)\ttotal: 475ms\tremaining: 310ms\n",
      "605:\tlearn: 0.1186011\ttest: 0.4605420\tbest: 0.4417987 (268)\ttotal: 475ms\tremaining: 309ms\n",
      "606:\tlearn: 0.1184340\ttest: 0.4606321\tbest: 0.4417987 (268)\ttotal: 476ms\tremaining: 308ms\n",
      "607:\tlearn: 0.1182894\ttest: 0.4604379\tbest: 0.4417987 (268)\ttotal: 477ms\tremaining: 307ms\n",
      "608:\tlearn: 0.1179255\ttest: 0.4609854\tbest: 0.4417987 (268)\ttotal: 477ms\tremaining: 307ms\n",
      "609:\tlearn: 0.1177649\ttest: 0.4609021\tbest: 0.4417987 (268)\ttotal: 478ms\tremaining: 306ms\n",
      "610:\tlearn: 0.1173132\ttest: 0.4610420\tbest: 0.4417987 (268)\ttotal: 479ms\tremaining: 305ms\n",
      "611:\tlearn: 0.1171855\ttest: 0.4611290\tbest: 0.4417987 (268)\ttotal: 479ms\tremaining: 304ms\n",
      "612:\tlearn: 0.1168910\ttest: 0.4614402\tbest: 0.4417987 (268)\ttotal: 480ms\tremaining: 303ms\n",
      "613:\tlearn: 0.1167359\ttest: 0.4610786\tbest: 0.4417987 (268)\ttotal: 481ms\tremaining: 303ms\n",
      "614:\tlearn: 0.1164740\ttest: 0.4609086\tbest: 0.4417987 (268)\ttotal: 482ms\tremaining: 302ms\n",
      "615:\tlearn: 0.1161485\ttest: 0.4608079\tbest: 0.4417987 (268)\ttotal: 483ms\tremaining: 301ms\n",
      "616:\tlearn: 0.1157715\ttest: 0.4608912\tbest: 0.4417987 (268)\ttotal: 484ms\tremaining: 300ms\n",
      "617:\tlearn: 0.1155327\ttest: 0.4609404\tbest: 0.4417987 (268)\ttotal: 484ms\tremaining: 299ms\n",
      "618:\tlearn: 0.1154404\ttest: 0.4610430\tbest: 0.4417987 (268)\ttotal: 485ms\tremaining: 299ms\n",
      "619:\tlearn: 0.1151144\ttest: 0.4612421\tbest: 0.4417987 (268)\ttotal: 486ms\tremaining: 298ms\n",
      "620:\tlearn: 0.1149028\ttest: 0.4613164\tbest: 0.4417987 (268)\ttotal: 486ms\tremaining: 297ms\n",
      "621:\tlearn: 0.1145219\ttest: 0.4614305\tbest: 0.4417987 (268)\ttotal: 487ms\tremaining: 296ms\n",
      "622:\tlearn: 0.1143780\ttest: 0.4617867\tbest: 0.4417987 (268)\ttotal: 488ms\tremaining: 295ms\n",
      "623:\tlearn: 0.1139607\ttest: 0.4617925\tbest: 0.4417987 (268)\ttotal: 488ms\tremaining: 294ms\n",
      "624:\tlearn: 0.1136534\ttest: 0.4619496\tbest: 0.4417987 (268)\ttotal: 492ms\tremaining: 295ms\n",
      "625:\tlearn: 0.1136161\ttest: 0.4620032\tbest: 0.4417987 (268)\ttotal: 493ms\tremaining: 294ms\n",
      "626:\tlearn: 0.1134866\ttest: 0.4621670\tbest: 0.4417987 (268)\ttotal: 493ms\tremaining: 293ms\n",
      "627:\tlearn: 0.1131654\ttest: 0.4623844\tbest: 0.4417987 (268)\ttotal: 494ms\tremaining: 293ms\n",
      "628:\tlearn: 0.1128880\ttest: 0.4622095\tbest: 0.4417987 (268)\ttotal: 495ms\tremaining: 292ms\n",
      "629:\tlearn: 0.1127596\ttest: 0.4624097\tbest: 0.4417987 (268)\ttotal: 495ms\tremaining: 291ms\n",
      "630:\tlearn: 0.1125847\ttest: 0.4626694\tbest: 0.4417987 (268)\ttotal: 496ms\tremaining: 290ms\n",
      "631:\tlearn: 0.1123347\ttest: 0.4627237\tbest: 0.4417987 (268)\ttotal: 497ms\tremaining: 289ms\n",
      "632:\tlearn: 0.1120074\ttest: 0.4630687\tbest: 0.4417987 (268)\ttotal: 498ms\tremaining: 289ms\n",
      "633:\tlearn: 0.1117275\ttest: 0.4625063\tbest: 0.4417987 (268)\ttotal: 499ms\tremaining: 288ms\n",
      "634:\tlearn: 0.1115610\ttest: 0.4626057\tbest: 0.4417987 (268)\ttotal: 499ms\tremaining: 287ms\n",
      "635:\tlearn: 0.1113475\ttest: 0.4625428\tbest: 0.4417987 (268)\ttotal: 500ms\tremaining: 286ms\n",
      "636:\tlearn: 0.1112291\ttest: 0.4625449\tbest: 0.4417987 (268)\ttotal: 501ms\tremaining: 285ms\n",
      "637:\tlearn: 0.1110221\ttest: 0.4628228\tbest: 0.4417987 (268)\ttotal: 501ms\tremaining: 284ms\n",
      "638:\tlearn: 0.1107217\ttest: 0.4631699\tbest: 0.4417987 (268)\ttotal: 502ms\tremaining: 284ms\n",
      "639:\tlearn: 0.1104758\ttest: 0.4632420\tbest: 0.4417987 (268)\ttotal: 503ms\tremaining: 283ms\n",
      "640:\tlearn: 0.1103153\ttest: 0.4630161\tbest: 0.4417987 (268)\ttotal: 504ms\tremaining: 282ms\n",
      "641:\tlearn: 0.1101080\ttest: 0.4630727\tbest: 0.4417987 (268)\ttotal: 504ms\tremaining: 281ms\n",
      "642:\tlearn: 0.1100743\ttest: 0.4632194\tbest: 0.4417987 (268)\ttotal: 505ms\tremaining: 280ms\n",
      "643:\tlearn: 0.1097494\ttest: 0.4631583\tbest: 0.4417987 (268)\ttotal: 506ms\tremaining: 280ms\n",
      "644:\tlearn: 0.1094927\ttest: 0.4631397\tbest: 0.4417987 (268)\ttotal: 506ms\tremaining: 279ms\n",
      "645:\tlearn: 0.1092653\ttest: 0.4635984\tbest: 0.4417987 (268)\ttotal: 507ms\tremaining: 278ms\n",
      "646:\tlearn: 0.1090463\ttest: 0.4638660\tbest: 0.4417987 (268)\ttotal: 508ms\tremaining: 277ms\n",
      "647:\tlearn: 0.1087701\ttest: 0.4638085\tbest: 0.4417987 (268)\ttotal: 509ms\tremaining: 276ms\n",
      "648:\tlearn: 0.1084853\ttest: 0.4637864\tbest: 0.4417987 (268)\ttotal: 509ms\tremaining: 275ms\n",
      "649:\tlearn: 0.1081903\ttest: 0.4639856\tbest: 0.4417987 (268)\ttotal: 510ms\tremaining: 275ms\n",
      "650:\tlearn: 0.1080213\ttest: 0.4643793\tbest: 0.4417987 (268)\ttotal: 511ms\tremaining: 274ms\n",
      "651:\tlearn: 0.1077243\ttest: 0.4641519\tbest: 0.4417987 (268)\ttotal: 512ms\tremaining: 273ms\n",
      "652:\tlearn: 0.1076407\ttest: 0.4641511\tbest: 0.4417987 (268)\ttotal: 512ms\tremaining: 272ms\n",
      "653:\tlearn: 0.1074978\ttest: 0.4640744\tbest: 0.4417987 (268)\ttotal: 513ms\tremaining: 271ms\n",
      "654:\tlearn: 0.1073370\ttest: 0.4640428\tbest: 0.4417987 (268)\ttotal: 514ms\tremaining: 271ms\n",
      "655:\tlearn: 0.1071874\ttest: 0.4640146\tbest: 0.4417987 (268)\ttotal: 514ms\tremaining: 270ms\n",
      "656:\tlearn: 0.1069533\ttest: 0.4640984\tbest: 0.4417987 (268)\ttotal: 515ms\tremaining: 269ms\n",
      "657:\tlearn: 0.1066504\ttest: 0.4646487\tbest: 0.4417987 (268)\ttotal: 516ms\tremaining: 268ms\n",
      "658:\tlearn: 0.1063838\ttest: 0.4650094\tbest: 0.4417987 (268)\ttotal: 517ms\tremaining: 267ms\n",
      "659:\tlearn: 0.1062327\ttest: 0.4648763\tbest: 0.4417987 (268)\ttotal: 517ms\tremaining: 266ms\n",
      "660:\tlearn: 0.1060503\ttest: 0.4648849\tbest: 0.4417987 (268)\ttotal: 518ms\tremaining: 266ms\n",
      "661:\tlearn: 0.1057380\ttest: 0.4643563\tbest: 0.4417987 (268)\ttotal: 519ms\tremaining: 265ms\n",
      "662:\tlearn: 0.1056032\ttest: 0.4646332\tbest: 0.4417987 (268)\ttotal: 519ms\tremaining: 264ms\n",
      "663:\tlearn: 0.1054985\ttest: 0.4645254\tbest: 0.4417987 (268)\ttotal: 520ms\tremaining: 263ms\n",
      "664:\tlearn: 0.1054408\ttest: 0.4646745\tbest: 0.4417987 (268)\ttotal: 521ms\tremaining: 262ms\n",
      "665:\tlearn: 0.1051091\ttest: 0.4646945\tbest: 0.4417987 (268)\ttotal: 521ms\tremaining: 261ms\n",
      "666:\tlearn: 0.1049345\ttest: 0.4651982\tbest: 0.4417987 (268)\ttotal: 522ms\tremaining: 261ms\n",
      "667:\tlearn: 0.1047564\ttest: 0.4651090\tbest: 0.4417987 (268)\ttotal: 523ms\tremaining: 260ms\n",
      "668:\tlearn: 0.1046026\ttest: 0.4650162\tbest: 0.4417987 (268)\ttotal: 523ms\tremaining: 259ms\n",
      "669:\tlearn: 0.1044010\ttest: 0.4650889\tbest: 0.4417987 (268)\ttotal: 524ms\tremaining: 258ms\n",
      "670:\tlearn: 0.1040472\ttest: 0.4657422\tbest: 0.4417987 (268)\ttotal: 525ms\tremaining: 257ms\n",
      "671:\tlearn: 0.1039689\ttest: 0.4659526\tbest: 0.4417987 (268)\ttotal: 526ms\tremaining: 256ms\n",
      "672:\tlearn: 0.1037567\ttest: 0.4658580\tbest: 0.4417987 (268)\ttotal: 526ms\tremaining: 256ms\n",
      "673:\tlearn: 0.1036619\ttest: 0.4658634\tbest: 0.4417987 (268)\ttotal: 527ms\tremaining: 255ms\n",
      "674:\tlearn: 0.1033431\ttest: 0.4663601\tbest: 0.4417987 (268)\ttotal: 528ms\tremaining: 254ms\n",
      "675:\tlearn: 0.1032077\ttest: 0.4664455\tbest: 0.4417987 (268)\ttotal: 528ms\tremaining: 253ms\n",
      "676:\tlearn: 0.1030129\ttest: 0.4664331\tbest: 0.4417987 (268)\ttotal: 529ms\tremaining: 252ms\n",
      "677:\tlearn: 0.1025639\ttest: 0.4662328\tbest: 0.4417987 (268)\ttotal: 530ms\tremaining: 252ms\n",
      "678:\tlearn: 0.1023830\ttest: 0.4663467\tbest: 0.4417987 (268)\ttotal: 531ms\tremaining: 251ms\n",
      "679:\tlearn: 0.1021440\ttest: 0.4663804\tbest: 0.4417987 (268)\ttotal: 531ms\tremaining: 250ms\n",
      "680:\tlearn: 0.1020310\ttest: 0.4665491\tbest: 0.4417987 (268)\ttotal: 532ms\tremaining: 249ms\n",
      "681:\tlearn: 0.1018812\ttest: 0.4667200\tbest: 0.4417987 (268)\ttotal: 533ms\tremaining: 248ms\n",
      "682:\tlearn: 0.1015564\ttest: 0.4672949\tbest: 0.4417987 (268)\ttotal: 533ms\tremaining: 248ms\n",
      "683:\tlearn: 0.1014342\ttest: 0.4672084\tbest: 0.4417987 (268)\ttotal: 534ms\tremaining: 247ms\n",
      "684:\tlearn: 0.1012801\ttest: 0.4672698\tbest: 0.4417987 (268)\ttotal: 535ms\tremaining: 246ms\n",
      "685:\tlearn: 0.1010563\ttest: 0.4675162\tbest: 0.4417987 (268)\ttotal: 536ms\tremaining: 245ms\n",
      "686:\tlearn: 0.1009294\ttest: 0.4671931\tbest: 0.4417987 (268)\ttotal: 536ms\tremaining: 244ms\n",
      "687:\tlearn: 0.1006653\ttest: 0.4674173\tbest: 0.4417987 (268)\ttotal: 537ms\tremaining: 244ms\n",
      "688:\tlearn: 0.1005560\ttest: 0.4672441\tbest: 0.4417987 (268)\ttotal: 538ms\tremaining: 243ms\n",
      "689:\tlearn: 0.1004395\ttest: 0.4672705\tbest: 0.4417987 (268)\ttotal: 539ms\tremaining: 242ms\n",
      "690:\tlearn: 0.1002248\ttest: 0.4672360\tbest: 0.4417987 (268)\ttotal: 539ms\tremaining: 241ms\n",
      "691:\tlearn: 0.0999365\ttest: 0.4672566\tbest: 0.4417987 (268)\ttotal: 540ms\tremaining: 240ms\n",
      "692:\tlearn: 0.0996871\ttest: 0.4675178\tbest: 0.4417987 (268)\ttotal: 541ms\tremaining: 240ms\n",
      "693:\tlearn: 0.0996464\ttest: 0.4675698\tbest: 0.4417987 (268)\ttotal: 542ms\tremaining: 239ms\n",
      "694:\tlearn: 0.0995166\ttest: 0.4677194\tbest: 0.4417987 (268)\ttotal: 542ms\tremaining: 238ms\n",
      "695:\tlearn: 0.0993761\ttest: 0.4679642\tbest: 0.4417987 (268)\ttotal: 543ms\tremaining: 237ms\n",
      "696:\tlearn: 0.0990175\ttest: 0.4679928\tbest: 0.4417987 (268)\ttotal: 544ms\tremaining: 236ms\n",
      "697:\tlearn: 0.0987801\ttest: 0.4682151\tbest: 0.4417987 (268)\ttotal: 544ms\tremaining: 236ms\n",
      "698:\tlearn: 0.0985432\ttest: 0.4679091\tbest: 0.4417987 (268)\ttotal: 545ms\tremaining: 235ms\n",
      "699:\tlearn: 0.0982206\ttest: 0.4681021\tbest: 0.4417987 (268)\ttotal: 546ms\tremaining: 234ms\n",
      "700:\tlearn: 0.0981423\ttest: 0.4680991\tbest: 0.4417987 (268)\ttotal: 547ms\tremaining: 233ms\n",
      "701:\tlearn: 0.0977961\ttest: 0.4682416\tbest: 0.4417987 (268)\ttotal: 548ms\tremaining: 233ms\n",
      "702:\tlearn: 0.0975662\ttest: 0.4686533\tbest: 0.4417987 (268)\ttotal: 549ms\tremaining: 232ms\n",
      "703:\tlearn: 0.0970232\ttest: 0.4686422\tbest: 0.4417987 (268)\ttotal: 550ms\tremaining: 231ms\n",
      "704:\tlearn: 0.0967924\ttest: 0.4690929\tbest: 0.4417987 (268)\ttotal: 551ms\tremaining: 230ms\n",
      "705:\tlearn: 0.0966528\ttest: 0.4690658\tbest: 0.4417987 (268)\ttotal: 552ms\tremaining: 230ms\n",
      "706:\tlearn: 0.0964402\ttest: 0.4694175\tbest: 0.4417987 (268)\ttotal: 553ms\tremaining: 229ms\n",
      "707:\tlearn: 0.0963824\ttest: 0.4694252\tbest: 0.4417987 (268)\ttotal: 553ms\tremaining: 228ms\n",
      "708:\tlearn: 0.0959605\ttest: 0.4698065\tbest: 0.4417987 (268)\ttotal: 554ms\tremaining: 227ms\n",
      "709:\tlearn: 0.0958208\ttest: 0.4697245\tbest: 0.4417987 (268)\ttotal: 555ms\tremaining: 227ms\n",
      "710:\tlearn: 0.0957936\ttest: 0.4697164\tbest: 0.4417987 (268)\ttotal: 556ms\tremaining: 226ms\n",
      "711:\tlearn: 0.0956228\ttest: 0.4699068\tbest: 0.4417987 (268)\ttotal: 556ms\tremaining: 225ms\n",
      "712:\tlearn: 0.0954709\ttest: 0.4697471\tbest: 0.4417987 (268)\ttotal: 557ms\tremaining: 224ms\n",
      "713:\tlearn: 0.0954315\ttest: 0.4699626\tbest: 0.4417987 (268)\ttotal: 558ms\tremaining: 223ms\n",
      "714:\tlearn: 0.0952468\ttest: 0.4700736\tbest: 0.4417987 (268)\ttotal: 559ms\tremaining: 223ms\n",
      "715:\tlearn: 0.0950792\ttest: 0.4701994\tbest: 0.4417987 (268)\ttotal: 560ms\tremaining: 222ms\n",
      "716:\tlearn: 0.0948175\ttest: 0.4705184\tbest: 0.4417987 (268)\ttotal: 561ms\tremaining: 221ms\n",
      "717:\tlearn: 0.0946779\ttest: 0.4707237\tbest: 0.4417987 (268)\ttotal: 561ms\tremaining: 221ms\n",
      "718:\tlearn: 0.0944556\ttest: 0.4706851\tbest: 0.4417987 (268)\ttotal: 562ms\tremaining: 220ms\n",
      "719:\tlearn: 0.0944021\ttest: 0.4706697\tbest: 0.4417987 (268)\ttotal: 563ms\tremaining: 219ms\n",
      "720:\tlearn: 0.0943041\ttest: 0.4708186\tbest: 0.4417987 (268)\ttotal: 564ms\tremaining: 218ms\n",
      "721:\tlearn: 0.0940899\ttest: 0.4708185\tbest: 0.4417987 (268)\ttotal: 564ms\tremaining: 217ms\n",
      "722:\tlearn: 0.0939125\ttest: 0.4707694\tbest: 0.4417987 (268)\ttotal: 565ms\tremaining: 216ms\n",
      "723:\tlearn: 0.0936895\ttest: 0.4708794\tbest: 0.4417987 (268)\ttotal: 566ms\tremaining: 216ms\n",
      "724:\tlearn: 0.0934102\ttest: 0.4710817\tbest: 0.4417987 (268)\ttotal: 567ms\tremaining: 215ms\n",
      "725:\tlearn: 0.0933290\ttest: 0.4712569\tbest: 0.4417987 (268)\ttotal: 569ms\tremaining: 215ms\n",
      "726:\tlearn: 0.0931152\ttest: 0.4710642\tbest: 0.4417987 (268)\ttotal: 569ms\tremaining: 214ms\n",
      "727:\tlearn: 0.0930351\ttest: 0.4709844\tbest: 0.4417987 (268)\ttotal: 570ms\tremaining: 213ms\n",
      "728:\tlearn: 0.0929019\ttest: 0.4710037\tbest: 0.4417987 (268)\ttotal: 571ms\tremaining: 212ms\n",
      "729:\tlearn: 0.0927943\ttest: 0.4710027\tbest: 0.4417987 (268)\ttotal: 572ms\tremaining: 211ms\n",
      "730:\tlearn: 0.0926861\ttest: 0.4709844\tbest: 0.4417987 (268)\ttotal: 572ms\tremaining: 211ms\n",
      "731:\tlearn: 0.0925914\ttest: 0.4710357\tbest: 0.4417987 (268)\ttotal: 573ms\tremaining: 210ms\n",
      "732:\tlearn: 0.0925479\ttest: 0.4710514\tbest: 0.4417987 (268)\ttotal: 574ms\tremaining: 209ms\n",
      "733:\tlearn: 0.0924069\ttest: 0.4707455\tbest: 0.4417987 (268)\ttotal: 575ms\tremaining: 208ms\n",
      "734:\tlearn: 0.0921522\ttest: 0.4711651\tbest: 0.4417987 (268)\ttotal: 576ms\tremaining: 208ms\n",
      "735:\tlearn: 0.0921227\ttest: 0.4711251\tbest: 0.4417987 (268)\ttotal: 577ms\tremaining: 207ms\n",
      "736:\tlearn: 0.0919096\ttest: 0.4711806\tbest: 0.4417987 (268)\ttotal: 577ms\tremaining: 206ms\n",
      "737:\tlearn: 0.0917392\ttest: 0.4709965\tbest: 0.4417987 (268)\ttotal: 578ms\tremaining: 205ms\n",
      "738:\tlearn: 0.0916548\ttest: 0.4709058\tbest: 0.4417987 (268)\ttotal: 579ms\tremaining: 204ms\n",
      "739:\tlearn: 0.0915516\ttest: 0.4708909\tbest: 0.4417987 (268)\ttotal: 580ms\tremaining: 204ms\n",
      "740:\tlearn: 0.0914718\ttest: 0.4710622\tbest: 0.4417987 (268)\ttotal: 580ms\tremaining: 203ms\n",
      "741:\tlearn: 0.0913436\ttest: 0.4709886\tbest: 0.4417987 (268)\ttotal: 581ms\tremaining: 202ms\n",
      "742:\tlearn: 0.0913023\ttest: 0.4709771\tbest: 0.4417987 (268)\ttotal: 582ms\tremaining: 201ms\n",
      "743:\tlearn: 0.0911037\ttest: 0.4710203\tbest: 0.4417987 (268)\ttotal: 583ms\tremaining: 201ms\n",
      "744:\tlearn: 0.0910099\ttest: 0.4711950\tbest: 0.4417987 (268)\ttotal: 583ms\tremaining: 200ms\n",
      "745:\tlearn: 0.0908168\ttest: 0.4715350\tbest: 0.4417987 (268)\ttotal: 584ms\tremaining: 199ms\n",
      "746:\tlearn: 0.0907532\ttest: 0.4716408\tbest: 0.4417987 (268)\ttotal: 585ms\tremaining: 198ms\n",
      "747:\tlearn: 0.0905987\ttest: 0.4720993\tbest: 0.4417987 (268)\ttotal: 586ms\tremaining: 197ms\n",
      "748:\tlearn: 0.0903890\ttest: 0.4723196\tbest: 0.4417987 (268)\ttotal: 586ms\tremaining: 197ms\n",
      "749:\tlearn: 0.0903359\ttest: 0.4723052\tbest: 0.4417987 (268)\ttotal: 587ms\tremaining: 196ms\n",
      "750:\tlearn: 0.0902569\ttest: 0.4726469\tbest: 0.4417987 (268)\ttotal: 588ms\tremaining: 195ms\n",
      "751:\tlearn: 0.0902225\ttest: 0.4728722\tbest: 0.4417987 (268)\ttotal: 589ms\tremaining: 194ms\n",
      "752:\tlearn: 0.0901636\ttest: 0.4729664\tbest: 0.4417987 (268)\ttotal: 590ms\tremaining: 193ms\n",
      "753:\tlearn: 0.0899228\ttest: 0.4730089\tbest: 0.4417987 (268)\ttotal: 591ms\tremaining: 193ms\n",
      "754:\tlearn: 0.0897477\ttest: 0.4730662\tbest: 0.4417987 (268)\ttotal: 591ms\tremaining: 192ms\n",
      "755:\tlearn: 0.0895933\ttest: 0.4730230\tbest: 0.4417987 (268)\ttotal: 592ms\tremaining: 191ms\n",
      "756:\tlearn: 0.0895159\ttest: 0.4729394\tbest: 0.4417987 (268)\ttotal: 593ms\tremaining: 190ms\n",
      "757:\tlearn: 0.0891317\ttest: 0.4733398\tbest: 0.4417987 (268)\ttotal: 594ms\tremaining: 190ms\n",
      "758:\tlearn: 0.0889094\ttest: 0.4738383\tbest: 0.4417987 (268)\ttotal: 595ms\tremaining: 189ms\n",
      "759:\tlearn: 0.0888600\ttest: 0.4738385\tbest: 0.4417987 (268)\ttotal: 595ms\tremaining: 188ms\n",
      "760:\tlearn: 0.0885013\ttest: 0.4736823\tbest: 0.4417987 (268)\ttotal: 596ms\tremaining: 187ms\n",
      "761:\tlearn: 0.0883954\ttest: 0.4736708\tbest: 0.4417987 (268)\ttotal: 597ms\tremaining: 186ms\n",
      "762:\tlearn: 0.0882508\ttest: 0.4737335\tbest: 0.4417987 (268)\ttotal: 598ms\tremaining: 186ms\n",
      "763:\tlearn: 0.0879455\ttest: 0.4739057\tbest: 0.4417987 (268)\ttotal: 599ms\tremaining: 185ms\n",
      "764:\tlearn: 0.0878379\ttest: 0.4737494\tbest: 0.4417987 (268)\ttotal: 600ms\tremaining: 184ms\n",
      "765:\tlearn: 0.0878087\ttest: 0.4736558\tbest: 0.4417987 (268)\ttotal: 600ms\tremaining: 183ms\n",
      "766:\tlearn: 0.0877121\ttest: 0.4735290\tbest: 0.4417987 (268)\ttotal: 601ms\tremaining: 183ms\n",
      "767:\tlearn: 0.0876320\ttest: 0.4736346\tbest: 0.4417987 (268)\ttotal: 602ms\tremaining: 182ms\n",
      "768:\tlearn: 0.0875303\ttest: 0.4737530\tbest: 0.4417987 (268)\ttotal: 603ms\tremaining: 181ms\n",
      "769:\tlearn: 0.0871305\ttest: 0.4738005\tbest: 0.4417987 (268)\ttotal: 603ms\tremaining: 180ms\n",
      "770:\tlearn: 0.0870169\ttest: 0.4737002\tbest: 0.4417987 (268)\ttotal: 604ms\tremaining: 179ms\n",
      "771:\tlearn: 0.0868734\ttest: 0.4741382\tbest: 0.4417987 (268)\ttotal: 605ms\tremaining: 179ms\n",
      "772:\tlearn: 0.0867849\ttest: 0.4740790\tbest: 0.4417987 (268)\ttotal: 606ms\tremaining: 178ms\n",
      "773:\tlearn: 0.0867704\ttest: 0.4740713\tbest: 0.4417987 (268)\ttotal: 606ms\tremaining: 177ms\n",
      "774:\tlearn: 0.0865906\ttest: 0.4740184\tbest: 0.4417987 (268)\ttotal: 607ms\tremaining: 176ms\n",
      "775:\tlearn: 0.0863889\ttest: 0.4745727\tbest: 0.4417987 (268)\ttotal: 608ms\tremaining: 176ms\n",
      "776:\tlearn: 0.0863164\ttest: 0.4749588\tbest: 0.4417987 (268)\ttotal: 609ms\tremaining: 175ms\n",
      "777:\tlearn: 0.0862601\ttest: 0.4749572\tbest: 0.4417987 (268)\ttotal: 610ms\tremaining: 174ms\n",
      "778:\tlearn: 0.0860974\ttest: 0.4752607\tbest: 0.4417987 (268)\ttotal: 610ms\tremaining: 173ms\n",
      "779:\tlearn: 0.0858170\ttest: 0.4752327\tbest: 0.4417987 (268)\ttotal: 611ms\tremaining: 172ms\n",
      "780:\tlearn: 0.0856106\ttest: 0.4754048\tbest: 0.4417987 (268)\ttotal: 612ms\tremaining: 172ms\n",
      "781:\tlearn: 0.0854297\ttest: 0.4755969\tbest: 0.4417987 (268)\ttotal: 613ms\tremaining: 171ms\n",
      "782:\tlearn: 0.0853381\ttest: 0.4754649\tbest: 0.4417987 (268)\ttotal: 613ms\tremaining: 170ms\n",
      "783:\tlearn: 0.0852615\ttest: 0.4755881\tbest: 0.4417987 (268)\ttotal: 614ms\tremaining: 169ms\n",
      "784:\tlearn: 0.0851988\ttest: 0.4755151\tbest: 0.4417987 (268)\ttotal: 615ms\tremaining: 168ms\n",
      "785:\tlearn: 0.0849428\ttest: 0.4756172\tbest: 0.4417987 (268)\ttotal: 616ms\tremaining: 168ms\n",
      "786:\tlearn: 0.0848285\ttest: 0.4756655\tbest: 0.4417987 (268)\ttotal: 616ms\tremaining: 167ms\n",
      "787:\tlearn: 0.0847907\ttest: 0.4756850\tbest: 0.4417987 (268)\ttotal: 617ms\tremaining: 166ms\n",
      "788:\tlearn: 0.0846245\ttest: 0.4757017\tbest: 0.4417987 (268)\ttotal: 618ms\tremaining: 165ms\n",
      "789:\tlearn: 0.0845102\ttest: 0.4759490\tbest: 0.4417987 (268)\ttotal: 619ms\tremaining: 164ms\n",
      "790:\tlearn: 0.0844640\ttest: 0.4759601\tbest: 0.4417987 (268)\ttotal: 619ms\tremaining: 164ms\n",
      "791:\tlearn: 0.0842985\ttest: 0.4761416\tbest: 0.4417987 (268)\ttotal: 620ms\tremaining: 163ms\n",
      "792:\tlearn: 0.0840898\ttest: 0.4761981\tbest: 0.4417987 (268)\ttotal: 621ms\tremaining: 162ms\n",
      "793:\tlearn: 0.0839807\ttest: 0.4764436\tbest: 0.4417987 (268)\ttotal: 621ms\tremaining: 161ms\n",
      "794:\tlearn: 0.0838411\ttest: 0.4762528\tbest: 0.4417987 (268)\ttotal: 622ms\tremaining: 160ms\n",
      "795:\tlearn: 0.0838015\ttest: 0.4763890\tbest: 0.4417987 (268)\ttotal: 623ms\tremaining: 160ms\n",
      "796:\tlearn: 0.0836682\ttest: 0.4763699\tbest: 0.4417987 (268)\ttotal: 624ms\tremaining: 159ms\n",
      "797:\tlearn: 0.0835715\ttest: 0.4764165\tbest: 0.4417987 (268)\ttotal: 625ms\tremaining: 158ms\n",
      "798:\tlearn: 0.0834012\ttest: 0.4762878\tbest: 0.4417987 (268)\ttotal: 625ms\tremaining: 157ms\n",
      "799:\tlearn: 0.0832350\ttest: 0.4763165\tbest: 0.4417987 (268)\ttotal: 626ms\tremaining: 156ms\n",
      "800:\tlearn: 0.0829867\ttest: 0.4758466\tbest: 0.4417987 (268)\ttotal: 627ms\tremaining: 156ms\n",
      "801:\tlearn: 0.0828575\ttest: 0.4760740\tbest: 0.4417987 (268)\ttotal: 627ms\tremaining: 155ms\n",
      "802:\tlearn: 0.0828147\ttest: 0.4760853\tbest: 0.4417987 (268)\ttotal: 628ms\tremaining: 154ms\n",
      "803:\tlearn: 0.0827789\ttest: 0.4761098\tbest: 0.4417987 (268)\ttotal: 629ms\tremaining: 153ms\n",
      "804:\tlearn: 0.0827056\ttest: 0.4762855\tbest: 0.4417987 (268)\ttotal: 629ms\tremaining: 152ms\n",
      "805:\tlearn: 0.0825702\ttest: 0.4764328\tbest: 0.4417987 (268)\ttotal: 630ms\tremaining: 152ms\n",
      "806:\tlearn: 0.0823843\ttest: 0.4763826\tbest: 0.4417987 (268)\ttotal: 631ms\tremaining: 151ms\n",
      "807:\tlearn: 0.0823481\ttest: 0.4765048\tbest: 0.4417987 (268)\ttotal: 631ms\tremaining: 150ms\n",
      "808:\tlearn: 0.0823045\ttest: 0.4766499\tbest: 0.4417987 (268)\ttotal: 632ms\tremaining: 149ms\n",
      "809:\tlearn: 0.0821416\ttest: 0.4770476\tbest: 0.4417987 (268)\ttotal: 633ms\tremaining: 148ms\n",
      "810:\tlearn: 0.0819827\ttest: 0.4772540\tbest: 0.4417987 (268)\ttotal: 633ms\tremaining: 148ms\n",
      "811:\tlearn: 0.0817714\ttest: 0.4772964\tbest: 0.4417987 (268)\ttotal: 634ms\tremaining: 147ms\n",
      "812:\tlearn: 0.0816780\ttest: 0.4772843\tbest: 0.4417987 (268)\ttotal: 635ms\tremaining: 146ms\n",
      "813:\tlearn: 0.0815901\ttest: 0.4775336\tbest: 0.4417987 (268)\ttotal: 636ms\tremaining: 145ms\n",
      "814:\tlearn: 0.0815505\ttest: 0.4775371\tbest: 0.4417987 (268)\ttotal: 636ms\tremaining: 144ms\n",
      "815:\tlearn: 0.0814639\ttest: 0.4773343\tbest: 0.4417987 (268)\ttotal: 637ms\tremaining: 144ms\n",
      "816:\tlearn: 0.0813932\ttest: 0.4774449\tbest: 0.4417987 (268)\ttotal: 638ms\tremaining: 143ms\n",
      "817:\tlearn: 0.0812555\ttest: 0.4774308\tbest: 0.4417987 (268)\ttotal: 639ms\tremaining: 142ms\n",
      "818:\tlearn: 0.0811752\ttest: 0.4774603\tbest: 0.4417987 (268)\ttotal: 639ms\tremaining: 141ms\n",
      "819:\tlearn: 0.0811393\ttest: 0.4775491\tbest: 0.4417987 (268)\ttotal: 640ms\tremaining: 141ms\n",
      "820:\tlearn: 0.0810396\ttest: 0.4773480\tbest: 0.4417987 (268)\ttotal: 641ms\tremaining: 140ms\n",
      "821:\tlearn: 0.0808516\ttest: 0.4773863\tbest: 0.4417987 (268)\ttotal: 642ms\tremaining: 139ms\n",
      "822:\tlearn: 0.0807599\ttest: 0.4775099\tbest: 0.4417987 (268)\ttotal: 642ms\tremaining: 138ms\n",
      "823:\tlearn: 0.0807029\ttest: 0.4774395\tbest: 0.4417987 (268)\ttotal: 643ms\tremaining: 137ms\n",
      "824:\tlearn: 0.0805771\ttest: 0.4774426\tbest: 0.4417987 (268)\ttotal: 644ms\tremaining: 137ms\n",
      "825:\tlearn: 0.0804864\ttest: 0.4775347\tbest: 0.4417987 (268)\ttotal: 645ms\tremaining: 136ms\n",
      "826:\tlearn: 0.0803356\ttest: 0.4776683\tbest: 0.4417987 (268)\ttotal: 645ms\tremaining: 135ms\n",
      "827:\tlearn: 0.0802444\ttest: 0.4777796\tbest: 0.4417987 (268)\ttotal: 646ms\tremaining: 134ms\n",
      "828:\tlearn: 0.0801596\ttest: 0.4777892\tbest: 0.4417987 (268)\ttotal: 647ms\tremaining: 133ms\n",
      "829:\tlearn: 0.0799528\ttest: 0.4779948\tbest: 0.4417987 (268)\ttotal: 648ms\tremaining: 133ms\n",
      "830:\tlearn: 0.0798082\ttest: 0.4782652\tbest: 0.4417987 (268)\ttotal: 648ms\tremaining: 132ms\n",
      "831:\tlearn: 0.0797705\ttest: 0.4782664\tbest: 0.4417987 (268)\ttotal: 649ms\tremaining: 131ms\n",
      "832:\tlearn: 0.0795316\ttest: 0.4781887\tbest: 0.4417987 (268)\ttotal: 650ms\tremaining: 130ms\n",
      "833:\tlearn: 0.0795192\ttest: 0.4782101\tbest: 0.4417987 (268)\ttotal: 651ms\tremaining: 129ms\n",
      "834:\tlearn: 0.0794769\ttest: 0.4783332\tbest: 0.4417987 (268)\ttotal: 651ms\tremaining: 129ms\n",
      "835:\tlearn: 0.0792317\ttest: 0.4788856\tbest: 0.4417987 (268)\ttotal: 652ms\tremaining: 128ms\n",
      "836:\tlearn: 0.0791319\ttest: 0.4789152\tbest: 0.4417987 (268)\ttotal: 653ms\tremaining: 127ms\n",
      "837:\tlearn: 0.0790149\ttest: 0.4790533\tbest: 0.4417987 (268)\ttotal: 654ms\tremaining: 126ms\n",
      "838:\tlearn: 0.0788946\ttest: 0.4794858\tbest: 0.4417987 (268)\ttotal: 654ms\tremaining: 126ms\n",
      "839:\tlearn: 0.0785799\ttest: 0.4800292\tbest: 0.4417987 (268)\ttotal: 655ms\tremaining: 125ms\n",
      "840:\tlearn: 0.0784704\ttest: 0.4800107\tbest: 0.4417987 (268)\ttotal: 656ms\tremaining: 124ms\n",
      "841:\tlearn: 0.0783512\ttest: 0.4802587\tbest: 0.4417987 (268)\ttotal: 657ms\tremaining: 123ms\n",
      "842:\tlearn: 0.0782261\ttest: 0.4802451\tbest: 0.4417987 (268)\ttotal: 657ms\tremaining: 122ms\n",
      "843:\tlearn: 0.0780809\ttest: 0.4803313\tbest: 0.4417987 (268)\ttotal: 658ms\tremaining: 122ms\n",
      "844:\tlearn: 0.0779399\ttest: 0.4803772\tbest: 0.4417987 (268)\ttotal: 659ms\tremaining: 121ms\n",
      "845:\tlearn: 0.0776918\ttest: 0.4806889\tbest: 0.4417987 (268)\ttotal: 659ms\tremaining: 120ms\n",
      "846:\tlearn: 0.0774177\ttest: 0.4813279\tbest: 0.4417987 (268)\ttotal: 660ms\tremaining: 119ms\n",
      "847:\tlearn: 0.0772406\ttest: 0.4813559\tbest: 0.4417987 (268)\ttotal: 661ms\tremaining: 118ms\n",
      "848:\tlearn: 0.0771091\ttest: 0.4815820\tbest: 0.4417987 (268)\ttotal: 662ms\tremaining: 118ms\n",
      "849:\tlearn: 0.0769931\ttest: 0.4817809\tbest: 0.4417987 (268)\ttotal: 662ms\tremaining: 117ms\n",
      "850:\tlearn: 0.0768739\ttest: 0.4820438\tbest: 0.4417987 (268)\ttotal: 663ms\tremaining: 116ms\n",
      "851:\tlearn: 0.0768332\ttest: 0.4820148\tbest: 0.4417987 (268)\ttotal: 664ms\tremaining: 115ms\n",
      "852:\tlearn: 0.0767609\ttest: 0.4818080\tbest: 0.4417987 (268)\ttotal: 664ms\tremaining: 114ms\n",
      "853:\tlearn: 0.0766816\ttest: 0.4816138\tbest: 0.4417987 (268)\ttotal: 665ms\tremaining: 114ms\n",
      "854:\tlearn: 0.0766293\ttest: 0.4816382\tbest: 0.4417987 (268)\ttotal: 666ms\tremaining: 113ms\n",
      "855:\tlearn: 0.0765776\ttest: 0.4817214\tbest: 0.4417987 (268)\ttotal: 666ms\tremaining: 112ms\n",
      "856:\tlearn: 0.0764618\ttest: 0.4817009\tbest: 0.4417987 (268)\ttotal: 667ms\tremaining: 111ms\n",
      "857:\tlearn: 0.0762097\ttest: 0.4818702\tbest: 0.4417987 (268)\ttotal: 668ms\tremaining: 111ms\n",
      "858:\tlearn: 0.0760662\ttest: 0.4818997\tbest: 0.4417987 (268)\ttotal: 668ms\tremaining: 110ms\n",
      "859:\tlearn: 0.0758822\ttest: 0.4817549\tbest: 0.4417987 (268)\ttotal: 669ms\tremaining: 109ms\n",
      "860:\tlearn: 0.0757893\ttest: 0.4818836\tbest: 0.4417987 (268)\ttotal: 670ms\tremaining: 108ms\n",
      "861:\tlearn: 0.0757309\ttest: 0.4819939\tbest: 0.4417987 (268)\ttotal: 671ms\tremaining: 107ms\n",
      "862:\tlearn: 0.0755206\ttest: 0.4824651\tbest: 0.4417987 (268)\ttotal: 672ms\tremaining: 107ms\n",
      "863:\tlearn: 0.0754230\ttest: 0.4823053\tbest: 0.4417987 (268)\ttotal: 673ms\tremaining: 106ms\n",
      "864:\tlearn: 0.0753129\ttest: 0.4822393\tbest: 0.4417987 (268)\ttotal: 673ms\tremaining: 105ms\n",
      "865:\tlearn: 0.0752326\ttest: 0.4822784\tbest: 0.4417987 (268)\ttotal: 674ms\tremaining: 104ms\n",
      "866:\tlearn: 0.0751338\ttest: 0.4823728\tbest: 0.4417987 (268)\ttotal: 675ms\tremaining: 104ms\n",
      "867:\tlearn: 0.0749918\ttest: 0.4824955\tbest: 0.4417987 (268)\ttotal: 676ms\tremaining: 103ms\n",
      "868:\tlearn: 0.0749599\ttest: 0.4823776\tbest: 0.4417987 (268)\ttotal: 677ms\tremaining: 102ms\n",
      "869:\tlearn: 0.0747552\ttest: 0.4828860\tbest: 0.4417987 (268)\ttotal: 677ms\tremaining: 101ms\n",
      "870:\tlearn: 0.0746761\ttest: 0.4831300\tbest: 0.4417987 (268)\ttotal: 678ms\tremaining: 100ms\n",
      "871:\tlearn: 0.0746688\ttest: 0.4831148\tbest: 0.4417987 (268)\ttotal: 679ms\tremaining: 99.6ms\n",
      "872:\tlearn: 0.0745198\ttest: 0.4834311\tbest: 0.4417987 (268)\ttotal: 679ms\tremaining: 98.8ms\n",
      "873:\tlearn: 0.0744604\ttest: 0.4833558\tbest: 0.4417987 (268)\ttotal: 680ms\tremaining: 98ms\n",
      "874:\tlearn: 0.0743768\ttest: 0.4835096\tbest: 0.4417987 (268)\ttotal: 681ms\tremaining: 97.3ms\n",
      "875:\tlearn: 0.0741949\ttest: 0.4836699\tbest: 0.4417987 (268)\ttotal: 682ms\tremaining: 96.5ms\n",
      "876:\tlearn: 0.0741872\ttest: 0.4836758\tbest: 0.4417987 (268)\ttotal: 682ms\tremaining: 95.7ms\n",
      "877:\tlearn: 0.0741552\ttest: 0.4836392\tbest: 0.4417987 (268)\ttotal: 683ms\tremaining: 94.9ms\n",
      "878:\tlearn: 0.0738943\ttest: 0.4839885\tbest: 0.4417987 (268)\ttotal: 684ms\tremaining: 94.1ms\n",
      "879:\tlearn: 0.0736728\ttest: 0.4843301\tbest: 0.4417987 (268)\ttotal: 685ms\tremaining: 93.4ms\n",
      "880:\tlearn: 0.0736307\ttest: 0.4843870\tbest: 0.4417987 (268)\ttotal: 685ms\tremaining: 92.6ms\n",
      "881:\tlearn: 0.0734754\ttest: 0.4846095\tbest: 0.4417987 (268)\ttotal: 686ms\tremaining: 91.8ms\n",
      "882:\tlearn: 0.0731845\ttest: 0.4845118\tbest: 0.4417987 (268)\ttotal: 687ms\tremaining: 91ms\n",
      "883:\tlearn: 0.0730850\ttest: 0.4842805\tbest: 0.4417987 (268)\ttotal: 688ms\tremaining: 90.2ms\n",
      "884:\tlearn: 0.0729952\ttest: 0.4844153\tbest: 0.4417987 (268)\ttotal: 688ms\tremaining: 89.4ms\n",
      "885:\tlearn: 0.0729636\ttest: 0.4844218\tbest: 0.4417987 (268)\ttotal: 689ms\tremaining: 88.7ms\n",
      "886:\tlearn: 0.0728153\ttest: 0.4848974\tbest: 0.4417987 (268)\ttotal: 690ms\tremaining: 87.9ms\n",
      "887:\tlearn: 0.0728082\ttest: 0.4848371\tbest: 0.4417987 (268)\ttotal: 690ms\tremaining: 87.1ms\n",
      "888:\tlearn: 0.0725650\ttest: 0.4854512\tbest: 0.4417987 (268)\ttotal: 691ms\tremaining: 86.3ms\n",
      "889:\tlearn: 0.0722593\ttest: 0.4856496\tbest: 0.4417987 (268)\ttotal: 692ms\tremaining: 85.5ms\n",
      "890:\tlearn: 0.0721214\ttest: 0.4863681\tbest: 0.4417987 (268)\ttotal: 693ms\tremaining: 84.7ms\n",
      "891:\tlearn: 0.0721126\ttest: 0.4863430\tbest: 0.4417987 (268)\ttotal: 693ms\tremaining: 83.9ms\n",
      "892:\tlearn: 0.0721035\ttest: 0.4863439\tbest: 0.4417987 (268)\ttotal: 694ms\tremaining: 83.2ms\n",
      "893:\tlearn: 0.0720949\ttest: 0.4863447\tbest: 0.4417987 (268)\ttotal: 695ms\tremaining: 82.4ms\n",
      "894:\tlearn: 0.0719105\ttest: 0.4863768\tbest: 0.4417987 (268)\ttotal: 695ms\tremaining: 81.6ms\n",
      "895:\tlearn: 0.0718495\ttest: 0.4865185\tbest: 0.4417987 (268)\ttotal: 696ms\tremaining: 80.8ms\n",
      "896:\tlearn: 0.0717424\ttest: 0.4866023\tbest: 0.4417987 (268)\ttotal: 697ms\tremaining: 80ms\n",
      "897:\tlearn: 0.0716867\ttest: 0.4865546\tbest: 0.4417987 (268)\ttotal: 697ms\tremaining: 79.2ms\n",
      "898:\tlearn: 0.0715426\ttest: 0.4866607\tbest: 0.4417987 (268)\ttotal: 698ms\tremaining: 78.4ms\n",
      "899:\tlearn: 0.0714110\ttest: 0.4865860\tbest: 0.4417987 (268)\ttotal: 699ms\tremaining: 77.7ms\n",
      "900:\tlearn: 0.0713233\ttest: 0.4865924\tbest: 0.4417987 (268)\ttotal: 700ms\tremaining: 76.9ms\n",
      "901:\tlearn: 0.0711813\ttest: 0.4872919\tbest: 0.4417987 (268)\ttotal: 700ms\tremaining: 76.1ms\n",
      "902:\tlearn: 0.0710556\ttest: 0.4874757\tbest: 0.4417987 (268)\ttotal: 701ms\tremaining: 75.3ms\n",
      "903:\tlearn: 0.0708992\ttest: 0.4871629\tbest: 0.4417987 (268)\ttotal: 702ms\tremaining: 74.6ms\n",
      "904:\tlearn: 0.0708137\ttest: 0.4871904\tbest: 0.4417987 (268)\ttotal: 703ms\tremaining: 73.8ms\n",
      "905:\tlearn: 0.0706847\ttest: 0.4872617\tbest: 0.4417987 (268)\ttotal: 704ms\tremaining: 73ms\n",
      "906:\tlearn: 0.0705451\ttest: 0.4872409\tbest: 0.4417987 (268)\ttotal: 704ms\tremaining: 72.2ms\n",
      "907:\tlearn: 0.0705051\ttest: 0.4872314\tbest: 0.4417987 (268)\ttotal: 705ms\tremaining: 71.4ms\n",
      "908:\tlearn: 0.0703628\ttest: 0.4874576\tbest: 0.4417987 (268)\ttotal: 706ms\tremaining: 70.6ms\n",
      "909:\tlearn: 0.0703430\ttest: 0.4873463\tbest: 0.4417987 (268)\ttotal: 706ms\tremaining: 69.9ms\n",
      "910:\tlearn: 0.0701413\ttest: 0.4879052\tbest: 0.4417987 (268)\ttotal: 707ms\tremaining: 69.1ms\n",
      "911:\tlearn: 0.0699577\ttest: 0.4879782\tbest: 0.4417987 (268)\ttotal: 708ms\tremaining: 68.3ms\n",
      "912:\tlearn: 0.0698001\ttest: 0.4882158\tbest: 0.4417987 (268)\ttotal: 708ms\tremaining: 67.5ms\n",
      "913:\tlearn: 0.0696890\ttest: 0.4884411\tbest: 0.4417987 (268)\ttotal: 709ms\tremaining: 66.7ms\n",
      "914:\tlearn: 0.0696574\ttest: 0.4885526\tbest: 0.4417987 (268)\ttotal: 710ms\tremaining: 65.9ms\n",
      "915:\tlearn: 0.0695701\ttest: 0.4885480\tbest: 0.4417987 (268)\ttotal: 711ms\tremaining: 65.2ms\n",
      "916:\tlearn: 0.0695293\ttest: 0.4886393\tbest: 0.4417987 (268)\ttotal: 711ms\tremaining: 64.4ms\n",
      "917:\tlearn: 0.0694097\ttest: 0.4886198\tbest: 0.4417987 (268)\ttotal: 712ms\tremaining: 63.6ms\n",
      "918:\tlearn: 0.0692832\ttest: 0.4887078\tbest: 0.4417987 (268)\ttotal: 713ms\tremaining: 62.8ms\n",
      "919:\tlearn: 0.0691905\ttest: 0.4886608\tbest: 0.4417987 (268)\ttotal: 713ms\tremaining: 62ms\n",
      "920:\tlearn: 0.0691623\ttest: 0.4886285\tbest: 0.4417987 (268)\ttotal: 714ms\tremaining: 61.2ms\n",
      "921:\tlearn: 0.0691112\ttest: 0.4886888\tbest: 0.4417987 (268)\ttotal: 715ms\tremaining: 60.5ms\n",
      "922:\tlearn: 0.0690939\ttest: 0.4886590\tbest: 0.4417987 (268)\ttotal: 715ms\tremaining: 59.7ms\n",
      "923:\tlearn: 0.0690029\ttest: 0.4886628\tbest: 0.4417987 (268)\ttotal: 716ms\tremaining: 58.9ms\n",
      "924:\tlearn: 0.0688504\ttest: 0.4890473\tbest: 0.4417987 (268)\ttotal: 717ms\tremaining: 58.1ms\n",
      "925:\tlearn: 0.0688040\ttest: 0.4891731\tbest: 0.4417987 (268)\ttotal: 718ms\tremaining: 57.4ms\n",
      "926:\tlearn: 0.0687690\ttest: 0.4893281\tbest: 0.4417987 (268)\ttotal: 718ms\tremaining: 56.6ms\n",
      "927:\tlearn: 0.0687145\ttest: 0.4893872\tbest: 0.4417987 (268)\ttotal: 719ms\tremaining: 55.8ms\n",
      "928:\tlearn: 0.0686577\ttest: 0.4894977\tbest: 0.4417987 (268)\ttotal: 720ms\tremaining: 55ms\n",
      "929:\tlearn: 0.0686304\ttest: 0.4895744\tbest: 0.4417987 (268)\ttotal: 721ms\tremaining: 54.2ms\n",
      "930:\tlearn: 0.0685333\ttest: 0.4895981\tbest: 0.4417987 (268)\ttotal: 721ms\tremaining: 53.5ms\n",
      "931:\tlearn: 0.0685035\ttest: 0.4897421\tbest: 0.4417987 (268)\ttotal: 722ms\tremaining: 52.7ms\n",
      "932:\tlearn: 0.0684931\ttest: 0.4897431\tbest: 0.4417987 (268)\ttotal: 723ms\tremaining: 51.9ms\n",
      "933:\tlearn: 0.0683534\ttest: 0.4898933\tbest: 0.4417987 (268)\ttotal: 723ms\tremaining: 51.1ms\n",
      "934:\tlearn: 0.0682654\ttest: 0.4901832\tbest: 0.4417987 (268)\ttotal: 724ms\tremaining: 50.3ms\n",
      "935:\tlearn: 0.0681611\ttest: 0.4904630\tbest: 0.4417987 (268)\ttotal: 725ms\tremaining: 49.6ms\n",
      "936:\tlearn: 0.0681175\ttest: 0.4903005\tbest: 0.4417987 (268)\ttotal: 726ms\tremaining: 48.8ms\n",
      "937:\tlearn: 0.0679740\ttest: 0.4907150\tbest: 0.4417987 (268)\ttotal: 726ms\tremaining: 48ms\n",
      "938:\tlearn: 0.0678283\ttest: 0.4911533\tbest: 0.4417987 (268)\ttotal: 727ms\tremaining: 47.2ms\n",
      "939:\tlearn: 0.0676599\ttest: 0.4915036\tbest: 0.4417987 (268)\ttotal: 728ms\tremaining: 46.5ms\n",
      "940:\tlearn: 0.0675248\ttest: 0.4919594\tbest: 0.4417987 (268)\ttotal: 728ms\tremaining: 45.7ms\n",
      "941:\tlearn: 0.0673624\ttest: 0.4920928\tbest: 0.4417987 (268)\ttotal: 729ms\tremaining: 44.9ms\n",
      "942:\tlearn: 0.0669888\ttest: 0.4922214\tbest: 0.4417987 (268)\ttotal: 730ms\tremaining: 44.1ms\n",
      "943:\tlearn: 0.0669505\ttest: 0.4923707\tbest: 0.4417987 (268)\ttotal: 731ms\tremaining: 43.3ms\n",
      "944:\tlearn: 0.0669086\ttest: 0.4925744\tbest: 0.4417987 (268)\ttotal: 731ms\tremaining: 42.6ms\n",
      "945:\tlearn: 0.0668247\ttest: 0.4925553\tbest: 0.4417987 (268)\ttotal: 732ms\tremaining: 41.8ms\n",
      "946:\tlearn: 0.0667533\ttest: 0.4925539\tbest: 0.4417987 (268)\ttotal: 733ms\tremaining: 41ms\n",
      "947:\tlearn: 0.0665160\ttest: 0.4933065\tbest: 0.4417987 (268)\ttotal: 733ms\tremaining: 40.2ms\n",
      "948:\tlearn: 0.0663637\ttest: 0.4935988\tbest: 0.4417987 (268)\ttotal: 734ms\tremaining: 39.5ms\n",
      "949:\tlearn: 0.0660682\ttest: 0.4933481\tbest: 0.4417987 (268)\ttotal: 735ms\tremaining: 38.7ms\n",
      "950:\tlearn: 0.0658782\ttest: 0.4935669\tbest: 0.4417987 (268)\ttotal: 735ms\tremaining: 37.9ms\n",
      "951:\tlearn: 0.0656186\ttest: 0.4937640\tbest: 0.4417987 (268)\ttotal: 736ms\tremaining: 37.1ms\n",
      "952:\tlearn: 0.0655036\ttest: 0.4938810\tbest: 0.4417987 (268)\ttotal: 737ms\tremaining: 36.3ms\n",
      "953:\tlearn: 0.0653776\ttest: 0.4940869\tbest: 0.4417987 (268)\ttotal: 738ms\tremaining: 35.6ms\n",
      "954:\tlearn: 0.0653079\ttest: 0.4941073\tbest: 0.4417987 (268)\ttotal: 738ms\tremaining: 34.8ms\n",
      "955:\tlearn: 0.0650216\ttest: 0.4945901\tbest: 0.4417987 (268)\ttotal: 739ms\tremaining: 34ms\n",
      "956:\tlearn: 0.0648886\ttest: 0.4946112\tbest: 0.4417987 (268)\ttotal: 740ms\tremaining: 33.2ms\n",
      "957:\tlearn: 0.0648300\ttest: 0.4947633\tbest: 0.4417987 (268)\ttotal: 741ms\tremaining: 32.5ms\n",
      "958:\tlearn: 0.0646384\ttest: 0.4950746\tbest: 0.4417987 (268)\ttotal: 741ms\tremaining: 31.7ms\n",
      "959:\tlearn: 0.0645016\ttest: 0.4954830\tbest: 0.4417987 (268)\ttotal: 742ms\tremaining: 30.9ms\n",
      "960:\tlearn: 0.0644706\ttest: 0.4956063\tbest: 0.4417987 (268)\ttotal: 743ms\tremaining: 30.2ms\n",
      "961:\tlearn: 0.0643924\ttest: 0.4955947\tbest: 0.4417987 (268)\ttotal: 744ms\tremaining: 29.4ms\n",
      "962:\tlearn: 0.0643479\ttest: 0.4956758\tbest: 0.4417987 (268)\ttotal: 744ms\tremaining: 28.6ms\n",
      "963:\tlearn: 0.0642896\ttest: 0.4956440\tbest: 0.4417987 (268)\ttotal: 745ms\tremaining: 27.8ms\n",
      "964:\tlearn: 0.0640948\ttest: 0.4952975\tbest: 0.4417987 (268)\ttotal: 746ms\tremaining: 27ms\n",
      "965:\tlearn: 0.0639084\ttest: 0.4953570\tbest: 0.4417987 (268)\ttotal: 746ms\tremaining: 26.3ms\n",
      "966:\tlearn: 0.0638302\ttest: 0.4951710\tbest: 0.4417987 (268)\ttotal: 747ms\tremaining: 25.5ms\n",
      "967:\tlearn: 0.0636404\ttest: 0.4955925\tbest: 0.4417987 (268)\ttotal: 748ms\tremaining: 24.7ms\n",
      "968:\tlearn: 0.0635098\ttest: 0.4956680\tbest: 0.4417987 (268)\ttotal: 749ms\tremaining: 23.9ms\n",
      "969:\tlearn: 0.0634269\ttest: 0.4957550\tbest: 0.4417987 (268)\ttotal: 749ms\tremaining: 23.2ms\n",
      "970:\tlearn: 0.0633965\ttest: 0.4957391\tbest: 0.4417987 (268)\ttotal: 750ms\tremaining: 22.4ms\n",
      "971:\tlearn: 0.0633174\ttest: 0.4954908\tbest: 0.4417987 (268)\ttotal: 751ms\tremaining: 21.6ms\n",
      "972:\tlearn: 0.0632323\ttest: 0.4958582\tbest: 0.4417987 (268)\ttotal: 752ms\tremaining: 20.9ms\n",
      "973:\tlearn: 0.0631121\ttest: 0.4959810\tbest: 0.4417987 (268)\ttotal: 752ms\tremaining: 20.1ms\n",
      "974:\tlearn: 0.0628792\ttest: 0.4964341\tbest: 0.4417987 (268)\ttotal: 753ms\tremaining: 19.3ms\n",
      "975:\tlearn: 0.0627800\ttest: 0.4965654\tbest: 0.4417987 (268)\ttotal: 754ms\tremaining: 18.5ms\n",
      "976:\tlearn: 0.0627433\ttest: 0.4965729\tbest: 0.4417987 (268)\ttotal: 754ms\tremaining: 17.8ms\n",
      "977:\tlearn: 0.0626066\ttest: 0.4968890\tbest: 0.4417987 (268)\ttotal: 755ms\tremaining: 17ms\n",
      "978:\tlearn: 0.0624862\ttest: 0.4966209\tbest: 0.4417987 (268)\ttotal: 756ms\tremaining: 16.2ms\n",
      "979:\tlearn: 0.0623900\ttest: 0.4968275\tbest: 0.4417987 (268)\ttotal: 757ms\tremaining: 15.4ms\n",
      "980:\tlearn: 0.0623206\ttest: 0.4967589\tbest: 0.4417987 (268)\ttotal: 758ms\tremaining: 14.7ms\n",
      "981:\tlearn: 0.0622094\ttest: 0.4971322\tbest: 0.4417987 (268)\ttotal: 758ms\tremaining: 13.9ms\n",
      "982:\tlearn: 0.0621275\ttest: 0.4973476\tbest: 0.4417987 (268)\ttotal: 759ms\tremaining: 13.1ms\n",
      "983:\tlearn: 0.0620662\ttest: 0.4973453\tbest: 0.4417987 (268)\ttotal: 760ms\tremaining: 12.4ms\n",
      "984:\tlearn: 0.0618313\ttest: 0.4971743\tbest: 0.4417987 (268)\ttotal: 761ms\tremaining: 11.6ms\n",
      "985:\tlearn: 0.0618232\ttest: 0.4971830\tbest: 0.4417987 (268)\ttotal: 761ms\tremaining: 10.8ms\n",
      "986:\tlearn: 0.0617953\ttest: 0.4971728\tbest: 0.4417987 (268)\ttotal: 762ms\tremaining: 10ms\n",
      "987:\tlearn: 0.0617688\ttest: 0.4971603\tbest: 0.4417987 (268)\ttotal: 763ms\tremaining: 9.26ms\n",
      "988:\tlearn: 0.0616069\ttest: 0.4973371\tbest: 0.4417987 (268)\ttotal: 766ms\tremaining: 8.52ms\n",
      "989:\tlearn: 0.0615126\ttest: 0.4975443\tbest: 0.4417987 (268)\ttotal: 766ms\tremaining: 7.74ms\n",
      "990:\tlearn: 0.0614654\ttest: 0.4975968\tbest: 0.4417987 (268)\ttotal: 767ms\tremaining: 6.97ms\n",
      "991:\tlearn: 0.0614116\ttest: 0.4978539\tbest: 0.4417987 (268)\ttotal: 768ms\tremaining: 6.19ms\n",
      "992:\tlearn: 0.0613845\ttest: 0.4981155\tbest: 0.4417987 (268)\ttotal: 769ms\tremaining: 5.42ms\n",
      "993:\tlearn: 0.0612644\ttest: 0.4985487\tbest: 0.4417987 (268)\ttotal: 769ms\tremaining: 4.64ms\n",
      "994:\tlearn: 0.0611923\ttest: 0.4987830\tbest: 0.4417987 (268)\ttotal: 770ms\tremaining: 3.87ms\n",
      "995:\tlearn: 0.0610726\ttest: 0.4988509\tbest: 0.4417987 (268)\ttotal: 771ms\tremaining: 3.1ms\n",
      "996:\tlearn: 0.0609932\ttest: 0.4990558\tbest: 0.4417987 (268)\ttotal: 772ms\tremaining: 2.32ms\n",
      "997:\tlearn: 0.0609775\ttest: 0.4990181\tbest: 0.4417987 (268)\ttotal: 772ms\tremaining: 1.55ms\n",
      "998:\tlearn: 0.0609718\ttest: 0.4990224\tbest: 0.4417987 (268)\ttotal: 773ms\tremaining: 773us\n",
      "999:\tlearn: 0.0609314\ttest: 0.4989707\tbest: 0.4417987 (268)\ttotal: 774ms\tremaining: 0us\n",
      "\n",
      "bestTest = 0.4417986656\n",
      "bestIteration = 268\n",
      "\n",
      "Shrink model to first 269 iterations.\n"
     ]
    }
   ],
   "source": [
    "from catboost import CatBoostClassifier\n",
    "model=CatBoostClassifier()\n",
    "model.fit(X_train,y_train,cat_features=categorical_features_indices,eval_set=(X_test, y_test))\n",
    "y_pred = model.predict(X_test)\n",
    "# metrics.accuracy_score(y_pred,y_test)"
   ],
   "metadata": {
    "collapsed": false,
    "pycharm": {
     "name": "#%%\n"
    }
   }
  },
  {
   "cell_type": "code",
   "execution_count": 149,
   "outputs": [
    {
     "name": "stdout",
     "output_type": "stream",
     "text": [
      "[0 0 0 1 0 0 0 0 0 0]\n",
      "[[0.53699548 0.46300452]\n",
      " [0.58453892 0.41546108]\n",
      " [0.60352569 0.39647431]\n",
      " [0.27513762 0.72486238]\n",
      " [0.63438393 0.36561607]\n",
      " [0.87096668 0.12903332]\n",
      " [0.80605339 0.19394661]\n",
      " [0.63598754 0.36401246]\n",
      " [0.50412505 0.49587495]\n",
      " [0.55378988 0.44621012]]\n"
     ]
    }
   ],
   "source": [
    "y_pred = model.predict(X_test)\n",
    "predictions_probs = model.predict_proba(X_test)\n",
    "print(y_pred[:10])\n",
    "print(predictions_probs[:10])"
   ],
   "metadata": {
    "collapsed": false,
    "pycharm": {
     "name": "#%%\n"
    }
   }
  },
  {
   "cell_type": "code",
   "execution_count": 148,
   "outputs": [],
   "source": [
    "def compute_accuracy(y_true, y_pred):\n",
    "    correct_predictions = 0\n",
    "    # iterate over each label and check\n",
    "    for true, predicted in zip(y_true, y_pred):\n",
    "        if true == predicted:\n",
    "            correct_predictions += 1\n",
    "    # compute the accuracy\n",
    "    accuracy = correct_predictions/len(y_true)\n",
    "    return accuracy"
   ],
   "metadata": {
    "collapsed": false,
    "pycharm": {
     "name": "#%%\n"
    }
   }
  },
  {
   "cell_type": "code",
   "execution_count": 150,
   "outputs": [
    {
     "data": {
      "text/plain": "0.7705627705627706"
     },
     "execution_count": 150,
     "metadata": {},
     "output_type": "execute_result"
    }
   ],
   "source": [
    "compute_accuracy(y_test, y_pred)"
   ],
   "metadata": {
    "collapsed": false,
    "pycharm": {
     "name": "#%%\n"
    }
   }
  },
  {
   "cell_type": "code",
   "execution_count": 156,
   "outputs": [],
   "source": [
    "# from sklearn.experimental import enable_hist_gradient_boosting\n",
    "from sklearn.ensemble import HistGradientBoostingClassifier"
   ],
   "metadata": {
    "collapsed": false,
    "pycharm": {
     "name": "#%%\n"
    }
   }
  },
  {
   "cell_type": "code",
   "execution_count": null,
   "outputs": [],
   "source": [],
   "metadata": {
    "collapsed": false,
    "pycharm": {
     "name": "#%%\n"
    }
   }
  },
  {
   "cell_type": "code",
   "execution_count": 157,
   "outputs": [],
   "source": [
    "mod = HistGradientBoostingClassifier(max_bins=255, max_iter=100, categorical_features = categorical_features_indices)\n"
   ],
   "metadata": {
    "collapsed": false,
    "pycharm": {
     "name": "#%%\n"
    }
   }
  },
  {
   "cell_type": "code",
   "execution_count": 159,
   "outputs": [],
   "source": [
    "mod.fit(X_train, y_train)\n",
    "y_pred = mod.predict(X_test)\n"
   ],
   "metadata": {
    "collapsed": false,
    "pycharm": {
     "name": "#%%\n"
    }
   }
  },
  {
   "cell_type": "code",
   "execution_count": 161,
   "outputs": [
    {
     "data": {
      "text/plain": "0.7445887445887446"
     },
     "execution_count": 161,
     "metadata": {},
     "output_type": "execute_result"
    }
   ],
   "source": [
    "compute_accuracy(y_test, y_pred)"
   ],
   "metadata": {
    "collapsed": false,
    "pycharm": {
     "name": "#%%\n"
    }
   }
  }
 ],
 "metadata": {
  "kernelspec": {
   "display_name": "Python 3",
   "language": "python",
   "name": "python3"
  },
  "language_info": {
   "codemirror_mode": {
    "name": "ipython",
    "version": 2
   },
   "file_extension": ".py",
   "mimetype": "text/x-python",
   "name": "python",
   "nbconvert_exporter": "python",
   "pygments_lexer": "ipython2",
   "version": "2.7.6"
  }
 },
 "nbformat": 4,
 "nbformat_minor": 0
}